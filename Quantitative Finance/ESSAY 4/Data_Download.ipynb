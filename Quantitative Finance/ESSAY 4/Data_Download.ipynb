{
 "metadata": {
  "language_info": {
   "codemirror_mode": {
    "name": "ipython",
    "version": 3
   },
   "file_extension": ".py",
   "mimetype": "text/x-python",
   "name": "python",
   "nbconvert_exporter": "python",
   "pygments_lexer": "ipython3",
   "version": "3.8.5-final"
  },
  "orig_nbformat": 2,
  "kernelspec": {
   "name": "python3",
   "display_name": "Python 3.8.5 32-bit",
   "metadata": {
    "interpreter": {
     "hash": "6893dd37ebe8a606285af9613371885e090a2ce9efc0aa8e36a7ced02f63fdc6"
    }
   }
  }
 },
 "nbformat": 4,
 "nbformat_minor": 2,
 "cells": [
  {
   "cell_type": "code",
   "execution_count": 1,
   "metadata": {},
   "outputs": [],
   "source": [
    "import yfinance as yf"
   ]
  },
  {
   "cell_type": "code",
   "execution_count": 2,
   "metadata": {},
   "outputs": [
    {
     "output_type": "stream",
     "name": "stdout",
     "text": [
      "[*********************100%***********************]  1 of 1 completed\n"
     ]
    }
   ],
   "source": [
    "fund = yf.download(\n",
    "        tickers = 'PRBLX',\n",
    "        start=\"2000-01-01\",\n",
    "        end='2020-01-01'\n",
    "    )"
   ]
  },
  {
   "cell_type": "code",
   "execution_count": 3,
   "metadata": {},
   "outputs": [],
   "source": [
    "fund.to_csv('data/fund.csv')"
   ]
  },
  {
   "cell_type": "code",
   "execution_count": 4,
   "metadata": {},
   "outputs": [
    {
     "output_type": "stream",
     "name": "stdout",
     "text": [
      "[*********************100%***********************]  10 of 10 completed\n"
     ]
    }
   ],
   "source": [
    "green_funds = yf.download(\n",
    "        tickers = ['PRBLX', 'CEYIX', 'PRILX', 'CVMIX', 'PARWX', 'CSIEX', 'PGINX', 'PXLIX', 'PFPWX', 'PARNX'],\n",
    "        start=\"2000-01-01\"\n",
    "    )"
   ]
  },
  {
   "cell_type": "code",
   "execution_count": 5,
   "metadata": {},
   "outputs": [
    {
     "output_type": "execute_result",
     "data": {
      "text/plain": [
       "            Adj Close                                                         \\\n",
       "                CEYIX      CSIEX      CVMIX      PARNX      PARWX      PFPWX   \n",
       "Date                                                                           \n",
       "1999-12-31  12.387040  10.766967        NaN  12.466459        NaN        NaN   \n",
       "2000-01-03  12.088756  10.511125        NaN  12.441857        NaN        NaN   \n",
       "2000-01-04  11.649620  10.125563        NaN  12.040820        NaN        NaN   \n",
       "2000-01-05  11.587476  10.075112        NaN  12.018682        NaN        NaN   \n",
       "2000-01-06  11.608191  10.089526        NaN  11.912887        NaN        NaN   \n",
       "...               ...        ...        ...        ...        ...        ...   \n",
       "2020-12-03  76.750000  65.349998  21.559999  58.500000  47.509998  47.630001   \n",
       "2020-12-04  77.489998  65.980003  21.820000  59.090000  48.419998  48.540001   \n",
       "2020-12-07  77.269997  65.790001  21.820000  59.110001  48.240002  48.360001   \n",
       "2020-12-08  77.339996  65.849998  21.799999  59.419998  48.529999  48.650002   \n",
       "2020-12-09  76.750000  65.349998  21.719999  58.549999  48.119999  48.240002   \n",
       "\n",
       "                                                    ... Volume              \\\n",
       "                PGINX      PRBLX      PRILX  PXLIX  ...  CEYIX CSIEX CVMIX   \n",
       "Date                                                ...                      \n",
       "1999-12-31        NaN   7.008411        NaN    NaN  ...      0     0   NaN   \n",
       "2000-01-03        NaN   6.975080        NaN    NaN  ...      0     0   NaN   \n",
       "2000-01-04        NaN   6.741770        NaN    NaN  ...      0     0   NaN   \n",
       "2000-01-05        NaN   6.756921        NaN    NaN  ...      0     0   NaN   \n",
       "2000-01-06        NaN   6.766010        NaN    NaN  ...      0     0   NaN   \n",
       "...               ...        ...        ...    ...  ...    ...   ...   ...   \n",
       "2020-12-03  20.290001  52.570000  52.680000  12.53  ...      0     0   0.0   \n",
       "2020-12-04  20.490000  53.049999  53.169998  12.62  ...      0     0   0.0   \n",
       "2020-12-07  20.430000  52.930000  53.049999  12.59  ...      0     0   0.0   \n",
       "2020-12-08  20.559999  53.020000  53.139999  12.62  ...      0     0   0.0   \n",
       "2020-12-09  20.520000  52.490002  52.610001  12.53  ...      0     0   0.0   \n",
       "\n",
       "                                                      \n",
       "           PARNX PARWX PFPWX PGINX PRBLX PRILX PXLIX  \n",
       "Date                                                  \n",
       "1999-12-31     0   NaN   NaN   NaN     0   NaN   NaN  \n",
       "2000-01-03     0   NaN   NaN   NaN     0   NaN   NaN  \n",
       "2000-01-04     0   NaN   NaN   NaN     0   NaN   NaN  \n",
       "2000-01-05     0   NaN   NaN   NaN     0   NaN   NaN  \n",
       "2000-01-06     0   NaN   NaN   NaN     0   NaN   NaN  \n",
       "...          ...   ...   ...   ...   ...   ...   ...  \n",
       "2020-12-03     0   0.0   0.0   0.0     0   0.0   0.0  \n",
       "2020-12-04     0   0.0   0.0   0.0     0   0.0   0.0  \n",
       "2020-12-07     0   0.0   0.0   0.0     0   0.0   0.0  \n",
       "2020-12-08     0   0.0   0.0   0.0     0   0.0   0.0  \n",
       "2020-12-09     0   0.0   0.0   0.0     0   0.0   0.0  \n",
       "\n",
       "[5270 rows x 60 columns]"
      ],
      "text/html": "<div>\n<style scoped>\n    .dataframe tbody tr th:only-of-type {\n        vertical-align: middle;\n    }\n\n    .dataframe tbody tr th {\n        vertical-align: top;\n    }\n\n    .dataframe thead tr th {\n        text-align: left;\n    }\n\n    .dataframe thead tr:last-of-type th {\n        text-align: right;\n    }\n</style>\n<table border=\"1\" class=\"dataframe\">\n  <thead>\n    <tr>\n      <th></th>\n      <th colspan=\"10\" halign=\"left\">Adj Close</th>\n      <th>...</th>\n      <th colspan=\"10\" halign=\"left\">Volume</th>\n    </tr>\n    <tr>\n      <th></th>\n      <th>CEYIX</th>\n      <th>CSIEX</th>\n      <th>CVMIX</th>\n      <th>PARNX</th>\n      <th>PARWX</th>\n      <th>PFPWX</th>\n      <th>PGINX</th>\n      <th>PRBLX</th>\n      <th>PRILX</th>\n      <th>PXLIX</th>\n      <th>...</th>\n      <th>CEYIX</th>\n      <th>CSIEX</th>\n      <th>CVMIX</th>\n      <th>PARNX</th>\n      <th>PARWX</th>\n      <th>PFPWX</th>\n      <th>PGINX</th>\n      <th>PRBLX</th>\n      <th>PRILX</th>\n      <th>PXLIX</th>\n    </tr>\n    <tr>\n      <th>Date</th>\n      <th></th>\n      <th></th>\n      <th></th>\n      <th></th>\n      <th></th>\n      <th></th>\n      <th></th>\n      <th></th>\n      <th></th>\n      <th></th>\n      <th></th>\n      <th></th>\n      <th></th>\n      <th></th>\n      <th></th>\n      <th></th>\n      <th></th>\n      <th></th>\n      <th></th>\n      <th></th>\n      <th></th>\n    </tr>\n  </thead>\n  <tbody>\n    <tr>\n      <th>1999-12-31</th>\n      <td>12.387040</td>\n      <td>10.766967</td>\n      <td>NaN</td>\n      <td>12.466459</td>\n      <td>NaN</td>\n      <td>NaN</td>\n      <td>NaN</td>\n      <td>7.008411</td>\n      <td>NaN</td>\n      <td>NaN</td>\n      <td>...</td>\n      <td>0</td>\n      <td>0</td>\n      <td>NaN</td>\n      <td>0</td>\n      <td>NaN</td>\n      <td>NaN</td>\n      <td>NaN</td>\n      <td>0</td>\n      <td>NaN</td>\n      <td>NaN</td>\n    </tr>\n    <tr>\n      <th>2000-01-03</th>\n      <td>12.088756</td>\n      <td>10.511125</td>\n      <td>NaN</td>\n      <td>12.441857</td>\n      <td>NaN</td>\n      <td>NaN</td>\n      <td>NaN</td>\n      <td>6.975080</td>\n      <td>NaN</td>\n      <td>NaN</td>\n      <td>...</td>\n      <td>0</td>\n      <td>0</td>\n      <td>NaN</td>\n      <td>0</td>\n      <td>NaN</td>\n      <td>NaN</td>\n      <td>NaN</td>\n      <td>0</td>\n      <td>NaN</td>\n      <td>NaN</td>\n    </tr>\n    <tr>\n      <th>2000-01-04</th>\n      <td>11.649620</td>\n      <td>10.125563</td>\n      <td>NaN</td>\n      <td>12.040820</td>\n      <td>NaN</td>\n      <td>NaN</td>\n      <td>NaN</td>\n      <td>6.741770</td>\n      <td>NaN</td>\n      <td>NaN</td>\n      <td>...</td>\n      <td>0</td>\n      <td>0</td>\n      <td>NaN</td>\n      <td>0</td>\n      <td>NaN</td>\n      <td>NaN</td>\n      <td>NaN</td>\n      <td>0</td>\n      <td>NaN</td>\n      <td>NaN</td>\n    </tr>\n    <tr>\n      <th>2000-01-05</th>\n      <td>11.587476</td>\n      <td>10.075112</td>\n      <td>NaN</td>\n      <td>12.018682</td>\n      <td>NaN</td>\n      <td>NaN</td>\n      <td>NaN</td>\n      <td>6.756921</td>\n      <td>NaN</td>\n      <td>NaN</td>\n      <td>...</td>\n      <td>0</td>\n      <td>0</td>\n      <td>NaN</td>\n      <td>0</td>\n      <td>NaN</td>\n      <td>NaN</td>\n      <td>NaN</td>\n      <td>0</td>\n      <td>NaN</td>\n      <td>NaN</td>\n    </tr>\n    <tr>\n      <th>2000-01-06</th>\n      <td>11.608191</td>\n      <td>10.089526</td>\n      <td>NaN</td>\n      <td>11.912887</td>\n      <td>NaN</td>\n      <td>NaN</td>\n      <td>NaN</td>\n      <td>6.766010</td>\n      <td>NaN</td>\n      <td>NaN</td>\n      <td>...</td>\n      <td>0</td>\n      <td>0</td>\n      <td>NaN</td>\n      <td>0</td>\n      <td>NaN</td>\n      <td>NaN</td>\n      <td>NaN</td>\n      <td>0</td>\n      <td>NaN</td>\n      <td>NaN</td>\n    </tr>\n    <tr>\n      <th>...</th>\n      <td>...</td>\n      <td>...</td>\n      <td>...</td>\n      <td>...</td>\n      <td>...</td>\n      <td>...</td>\n      <td>...</td>\n      <td>...</td>\n      <td>...</td>\n      <td>...</td>\n      <td>...</td>\n      <td>...</td>\n      <td>...</td>\n      <td>...</td>\n      <td>...</td>\n      <td>...</td>\n      <td>...</td>\n      <td>...</td>\n      <td>...</td>\n      <td>...</td>\n      <td>...</td>\n    </tr>\n    <tr>\n      <th>2020-12-03</th>\n      <td>76.750000</td>\n      <td>65.349998</td>\n      <td>21.559999</td>\n      <td>58.500000</td>\n      <td>47.509998</td>\n      <td>47.630001</td>\n      <td>20.290001</td>\n      <td>52.570000</td>\n      <td>52.680000</td>\n      <td>12.53</td>\n      <td>...</td>\n      <td>0</td>\n      <td>0</td>\n      <td>0.0</td>\n      <td>0</td>\n      <td>0.0</td>\n      <td>0.0</td>\n      <td>0.0</td>\n      <td>0</td>\n      <td>0.0</td>\n      <td>0.0</td>\n    </tr>\n    <tr>\n      <th>2020-12-04</th>\n      <td>77.489998</td>\n      <td>65.980003</td>\n      <td>21.820000</td>\n      <td>59.090000</td>\n      <td>48.419998</td>\n      <td>48.540001</td>\n      <td>20.490000</td>\n      <td>53.049999</td>\n      <td>53.169998</td>\n      <td>12.62</td>\n      <td>...</td>\n      <td>0</td>\n      <td>0</td>\n      <td>0.0</td>\n      <td>0</td>\n      <td>0.0</td>\n      <td>0.0</td>\n      <td>0.0</td>\n      <td>0</td>\n      <td>0.0</td>\n      <td>0.0</td>\n    </tr>\n    <tr>\n      <th>2020-12-07</th>\n      <td>77.269997</td>\n      <td>65.790001</td>\n      <td>21.820000</td>\n      <td>59.110001</td>\n      <td>48.240002</td>\n      <td>48.360001</td>\n      <td>20.430000</td>\n      <td>52.930000</td>\n      <td>53.049999</td>\n      <td>12.59</td>\n      <td>...</td>\n      <td>0</td>\n      <td>0</td>\n      <td>0.0</td>\n      <td>0</td>\n      <td>0.0</td>\n      <td>0.0</td>\n      <td>0.0</td>\n      <td>0</td>\n      <td>0.0</td>\n      <td>0.0</td>\n    </tr>\n    <tr>\n      <th>2020-12-08</th>\n      <td>77.339996</td>\n      <td>65.849998</td>\n      <td>21.799999</td>\n      <td>59.419998</td>\n      <td>48.529999</td>\n      <td>48.650002</td>\n      <td>20.559999</td>\n      <td>53.020000</td>\n      <td>53.139999</td>\n      <td>12.62</td>\n      <td>...</td>\n      <td>0</td>\n      <td>0</td>\n      <td>0.0</td>\n      <td>0</td>\n      <td>0.0</td>\n      <td>0.0</td>\n      <td>0.0</td>\n      <td>0</td>\n      <td>0.0</td>\n      <td>0.0</td>\n    </tr>\n    <tr>\n      <th>2020-12-09</th>\n      <td>76.750000</td>\n      <td>65.349998</td>\n      <td>21.719999</td>\n      <td>58.549999</td>\n      <td>48.119999</td>\n      <td>48.240002</td>\n      <td>20.520000</td>\n      <td>52.490002</td>\n      <td>52.610001</td>\n      <td>12.53</td>\n      <td>...</td>\n      <td>0</td>\n      <td>0</td>\n      <td>0.0</td>\n      <td>0</td>\n      <td>0.0</td>\n      <td>0.0</td>\n      <td>0.0</td>\n      <td>0</td>\n      <td>0.0</td>\n      <td>0.0</td>\n    </tr>\n  </tbody>\n</table>\n<p>5270 rows × 60 columns</p>\n</div>"
     },
     "metadata": {},
     "execution_count": 5
    }
   ],
   "source": [
    "green_funds"
   ]
  },
  {
   "cell_type": "code",
   "execution_count": 6,
   "metadata": {},
   "outputs": [
    {
     "output_type": "execute_result",
     "data": {
      "text/plain": [
       "            Adj Close                                                         \\\n",
       "                CEYIX      CSIEX      CVMIX      PARNX      PARWX      PFPWX   \n",
       "Date                                                                           \n",
       "2016-12-16  35.079571  30.226851  11.852346  35.103386  27.564457  27.270144   \n",
       "2016-12-19  35.145126  30.291441  11.794151  35.219624  27.680693  27.384933   \n",
       "2016-12-20  35.243454  30.372169  11.803851  35.366859  27.846745  27.548914   \n",
       "2016-12-21  35.153328  30.291441  11.774755  35.351360  27.838438  27.540716   \n",
       "2016-12-22  34.956657  30.121902  11.716558  35.428848  27.896557  27.606308   \n",
       "...               ...        ...        ...        ...        ...        ...   \n",
       "2020-12-03  76.750000  65.349998  21.559999  58.500000  47.509998  47.630001   \n",
       "2020-12-04  77.489998  65.980003  21.820000  59.090000  48.419998  48.540001   \n",
       "2020-12-07  77.269997  65.790001  21.820000  59.110001  48.240002  48.360001   \n",
       "2020-12-08  77.339996  65.849998  21.799999  59.419998  48.529999  48.650002   \n",
       "2020-12-09  76.750000  65.349998  21.719999  58.549999  48.119999  48.240002   \n",
       "\n",
       "                                                        ... Volume        \\\n",
       "                PGINX      PRBLX      PRILX      PXLIX  ...  CEYIX CSIEX   \n",
       "Date                                                    ...                \n",
       "2016-12-16  12.138607  29.253382  29.066002   6.681771  ...      0     0   \n",
       "2016-12-19  12.156846  29.357113  29.168844   6.695135  ...      0     0   \n",
       "2016-12-20  12.165965  29.446037  29.256989   6.715180  ...      0     0   \n",
       "2016-12-21  12.156846  29.416386  29.227602   6.701816  ...      0     0   \n",
       "2016-12-22  12.123906  29.438629  29.249641   6.695135  ...      0     0   \n",
       "...               ...        ...        ...        ...  ...    ...   ...   \n",
       "2020-12-03  20.290001  52.570000  52.680000  12.530000  ...      0     0   \n",
       "2020-12-04  20.490000  53.049999  53.169998  12.620000  ...      0     0   \n",
       "2020-12-07  20.430000  52.930000  53.049999  12.590000  ...      0     0   \n",
       "2020-12-08  20.559999  53.020000  53.139999  12.620000  ...      0     0   \n",
       "2020-12-09  20.520000  52.490002  52.610001  12.530000  ...      0     0   \n",
       "\n",
       "                                                            \n",
       "           CVMIX PARNX PARWX PFPWX PGINX PRBLX PRILX PXLIX  \n",
       "Date                                                        \n",
       "2016-12-16   0.0     0   0.0   0.0   0.0     0   0.0   0.0  \n",
       "2016-12-19   0.0     0   0.0   0.0   0.0     0   0.0   0.0  \n",
       "2016-12-20   0.0     0   0.0   0.0   0.0     0   0.0   0.0  \n",
       "2016-12-21   0.0     0   0.0   0.0   0.0     0   0.0   0.0  \n",
       "2016-12-22   0.0     0   0.0   0.0   0.0     0   0.0   0.0  \n",
       "...          ...   ...   ...   ...   ...   ...   ...   ...  \n",
       "2020-12-03   0.0     0   0.0   0.0   0.0     0   0.0   0.0  \n",
       "2020-12-04   0.0     0   0.0   0.0   0.0     0   0.0   0.0  \n",
       "2020-12-07   0.0     0   0.0   0.0   0.0     0   0.0   0.0  \n",
       "2020-12-08   0.0     0   0.0   0.0   0.0     0   0.0   0.0  \n",
       "2020-12-09   0.0     0   0.0   0.0   0.0     0   0.0   0.0  \n",
       "\n",
       "[1002 rows x 60 columns]"
      ],
      "text/html": "<div>\n<style scoped>\n    .dataframe tbody tr th:only-of-type {\n        vertical-align: middle;\n    }\n\n    .dataframe tbody tr th {\n        vertical-align: top;\n    }\n\n    .dataframe thead tr th {\n        text-align: left;\n    }\n\n    .dataframe thead tr:last-of-type th {\n        text-align: right;\n    }\n</style>\n<table border=\"1\" class=\"dataframe\">\n  <thead>\n    <tr>\n      <th></th>\n      <th colspan=\"10\" halign=\"left\">Adj Close</th>\n      <th>...</th>\n      <th colspan=\"10\" halign=\"left\">Volume</th>\n    </tr>\n    <tr>\n      <th></th>\n      <th>CEYIX</th>\n      <th>CSIEX</th>\n      <th>CVMIX</th>\n      <th>PARNX</th>\n      <th>PARWX</th>\n      <th>PFPWX</th>\n      <th>PGINX</th>\n      <th>PRBLX</th>\n      <th>PRILX</th>\n      <th>PXLIX</th>\n      <th>...</th>\n      <th>CEYIX</th>\n      <th>CSIEX</th>\n      <th>CVMIX</th>\n      <th>PARNX</th>\n      <th>PARWX</th>\n      <th>PFPWX</th>\n      <th>PGINX</th>\n      <th>PRBLX</th>\n      <th>PRILX</th>\n      <th>PXLIX</th>\n    </tr>\n    <tr>\n      <th>Date</th>\n      <th></th>\n      <th></th>\n      <th></th>\n      <th></th>\n      <th></th>\n      <th></th>\n      <th></th>\n      <th></th>\n      <th></th>\n      <th></th>\n      <th></th>\n      <th></th>\n      <th></th>\n      <th></th>\n      <th></th>\n      <th></th>\n      <th></th>\n      <th></th>\n      <th></th>\n      <th></th>\n      <th></th>\n    </tr>\n  </thead>\n  <tbody>\n    <tr>\n      <th>2016-12-16</th>\n      <td>35.079571</td>\n      <td>30.226851</td>\n      <td>11.852346</td>\n      <td>35.103386</td>\n      <td>27.564457</td>\n      <td>27.270144</td>\n      <td>12.138607</td>\n      <td>29.253382</td>\n      <td>29.066002</td>\n      <td>6.681771</td>\n      <td>...</td>\n      <td>0</td>\n      <td>0</td>\n      <td>0.0</td>\n      <td>0</td>\n      <td>0.0</td>\n      <td>0.0</td>\n      <td>0.0</td>\n      <td>0</td>\n      <td>0.0</td>\n      <td>0.0</td>\n    </tr>\n    <tr>\n      <th>2016-12-19</th>\n      <td>35.145126</td>\n      <td>30.291441</td>\n      <td>11.794151</td>\n      <td>35.219624</td>\n      <td>27.680693</td>\n      <td>27.384933</td>\n      <td>12.156846</td>\n      <td>29.357113</td>\n      <td>29.168844</td>\n      <td>6.695135</td>\n      <td>...</td>\n      <td>0</td>\n      <td>0</td>\n      <td>0.0</td>\n      <td>0</td>\n      <td>0.0</td>\n      <td>0.0</td>\n      <td>0.0</td>\n      <td>0</td>\n      <td>0.0</td>\n      <td>0.0</td>\n    </tr>\n    <tr>\n      <th>2016-12-20</th>\n      <td>35.243454</td>\n      <td>30.372169</td>\n      <td>11.803851</td>\n      <td>35.366859</td>\n      <td>27.846745</td>\n      <td>27.548914</td>\n      <td>12.165965</td>\n      <td>29.446037</td>\n      <td>29.256989</td>\n      <td>6.715180</td>\n      <td>...</td>\n      <td>0</td>\n      <td>0</td>\n      <td>0.0</td>\n      <td>0</td>\n      <td>0.0</td>\n      <td>0.0</td>\n      <td>0.0</td>\n      <td>0</td>\n      <td>0.0</td>\n      <td>0.0</td>\n    </tr>\n    <tr>\n      <th>2016-12-21</th>\n      <td>35.153328</td>\n      <td>30.291441</td>\n      <td>11.774755</td>\n      <td>35.351360</td>\n      <td>27.838438</td>\n      <td>27.540716</td>\n      <td>12.156846</td>\n      <td>29.416386</td>\n      <td>29.227602</td>\n      <td>6.701816</td>\n      <td>...</td>\n      <td>0</td>\n      <td>0</td>\n      <td>0.0</td>\n      <td>0</td>\n      <td>0.0</td>\n      <td>0.0</td>\n      <td>0.0</td>\n      <td>0</td>\n      <td>0.0</td>\n      <td>0.0</td>\n    </tr>\n    <tr>\n      <th>2016-12-22</th>\n      <td>34.956657</td>\n      <td>30.121902</td>\n      <td>11.716558</td>\n      <td>35.428848</td>\n      <td>27.896557</td>\n      <td>27.606308</td>\n      <td>12.123906</td>\n      <td>29.438629</td>\n      <td>29.249641</td>\n      <td>6.695135</td>\n      <td>...</td>\n      <td>0</td>\n      <td>0</td>\n      <td>0.0</td>\n      <td>0</td>\n      <td>0.0</td>\n      <td>0.0</td>\n      <td>0.0</td>\n      <td>0</td>\n      <td>0.0</td>\n      <td>0.0</td>\n    </tr>\n    <tr>\n      <th>...</th>\n      <td>...</td>\n      <td>...</td>\n      <td>...</td>\n      <td>...</td>\n      <td>...</td>\n      <td>...</td>\n      <td>...</td>\n      <td>...</td>\n      <td>...</td>\n      <td>...</td>\n      <td>...</td>\n      <td>...</td>\n      <td>...</td>\n      <td>...</td>\n      <td>...</td>\n      <td>...</td>\n      <td>...</td>\n      <td>...</td>\n      <td>...</td>\n      <td>...</td>\n      <td>...</td>\n    </tr>\n    <tr>\n      <th>2020-12-03</th>\n      <td>76.750000</td>\n      <td>65.349998</td>\n      <td>21.559999</td>\n      <td>58.500000</td>\n      <td>47.509998</td>\n      <td>47.630001</td>\n      <td>20.290001</td>\n      <td>52.570000</td>\n      <td>52.680000</td>\n      <td>12.530000</td>\n      <td>...</td>\n      <td>0</td>\n      <td>0</td>\n      <td>0.0</td>\n      <td>0</td>\n      <td>0.0</td>\n      <td>0.0</td>\n      <td>0.0</td>\n      <td>0</td>\n      <td>0.0</td>\n      <td>0.0</td>\n    </tr>\n    <tr>\n      <th>2020-12-04</th>\n      <td>77.489998</td>\n      <td>65.980003</td>\n      <td>21.820000</td>\n      <td>59.090000</td>\n      <td>48.419998</td>\n      <td>48.540001</td>\n      <td>20.490000</td>\n      <td>53.049999</td>\n      <td>53.169998</td>\n      <td>12.620000</td>\n      <td>...</td>\n      <td>0</td>\n      <td>0</td>\n      <td>0.0</td>\n      <td>0</td>\n      <td>0.0</td>\n      <td>0.0</td>\n      <td>0.0</td>\n      <td>0</td>\n      <td>0.0</td>\n      <td>0.0</td>\n    </tr>\n    <tr>\n      <th>2020-12-07</th>\n      <td>77.269997</td>\n      <td>65.790001</td>\n      <td>21.820000</td>\n      <td>59.110001</td>\n      <td>48.240002</td>\n      <td>48.360001</td>\n      <td>20.430000</td>\n      <td>52.930000</td>\n      <td>53.049999</td>\n      <td>12.590000</td>\n      <td>...</td>\n      <td>0</td>\n      <td>0</td>\n      <td>0.0</td>\n      <td>0</td>\n      <td>0.0</td>\n      <td>0.0</td>\n      <td>0.0</td>\n      <td>0</td>\n      <td>0.0</td>\n      <td>0.0</td>\n    </tr>\n    <tr>\n      <th>2020-12-08</th>\n      <td>77.339996</td>\n      <td>65.849998</td>\n      <td>21.799999</td>\n      <td>59.419998</td>\n      <td>48.529999</td>\n      <td>48.650002</td>\n      <td>20.559999</td>\n      <td>53.020000</td>\n      <td>53.139999</td>\n      <td>12.620000</td>\n      <td>...</td>\n      <td>0</td>\n      <td>0</td>\n      <td>0.0</td>\n      <td>0</td>\n      <td>0.0</td>\n      <td>0.0</td>\n      <td>0.0</td>\n      <td>0</td>\n      <td>0.0</td>\n      <td>0.0</td>\n    </tr>\n    <tr>\n      <th>2020-12-09</th>\n      <td>76.750000</td>\n      <td>65.349998</td>\n      <td>21.719999</td>\n      <td>58.549999</td>\n      <td>48.119999</td>\n      <td>48.240002</td>\n      <td>20.520000</td>\n      <td>52.490002</td>\n      <td>52.610001</td>\n      <td>12.530000</td>\n      <td>...</td>\n      <td>0</td>\n      <td>0</td>\n      <td>0.0</td>\n      <td>0</td>\n      <td>0.0</td>\n      <td>0.0</td>\n      <td>0.0</td>\n      <td>0</td>\n      <td>0.0</td>\n      <td>0.0</td>\n    </tr>\n  </tbody>\n</table>\n<p>1002 rows × 60 columns</p>\n</div>"
     },
     "metadata": {},
     "execution_count": 6
    }
   ],
   "source": [
    "green_funds = green_funds.dropna(axis=0)\n",
    "green_funds"
   ]
  },
  {
   "cell_type": "code",
   "execution_count": 7,
   "metadata": {},
   "outputs": [
    {
     "output_type": "stream",
     "name": "stdout",
     "text": [
      "[*********************100%***********************]  10 of 10 completed\n"
     ]
    }
   ],
   "source": [
    "bad_funds = yf.download(\n",
    "        tickers = ['FAN', 'TOPIX', 'ESGS', 'ESGN', 'CAIBX', 'VTV', 'IWD', 'FKINX', 'VYM', 'DFEVX'],\n",
    "        start=\"2000-01-01\"\n",
    "    )"
   ]
  },
  {
   "cell_type": "code",
   "execution_count": 8,
   "metadata": {},
   "outputs": [
    {
     "output_type": "execute_result",
     "data": {
      "text/plain": [
       "                CAIBX      DFEVX       ESGN       ESGS        FAN     FKINX  \\\n",
       "Date                                                                          \n",
       "2016-12-16  49.307808  21.805237  21.005085  22.155062  10.393728  1.860493   \n",
       "2016-12-19  49.375828  21.659864  21.134848  22.155062  10.393728  1.860493   \n",
       "2016-12-20  49.452358  21.659864  21.134848  22.147245  10.350132  1.860493   \n",
       "2016-12-21  49.375828  21.632610  21.134848  22.147245  10.431571  1.868582   \n",
       "2016-12-22  49.375828  21.432726  21.102407  22.053503  10.413269  1.860493   \n",
       "...               ...        ...        ...        ...        ...       ...   \n",
       "2020-12-03  62.680000  27.799999  24.986000  29.704000  20.830000  2.270000   \n",
       "2020-12-04  63.150002  28.120001  25.167999  30.225000  20.820000  2.290000   \n",
       "2020-12-07  63.020000  28.000000  24.920000  29.813000  20.840000  2.280000   \n",
       "2020-12-08  63.180000  27.950001  24.950001  30.103001  20.920000  2.290000   \n",
       "2020-12-09  63.150002  27.879999  25.066000  30.159000  20.830000  2.290000   \n",
       "\n",
       "                   IWD     TOPIX         VTV        VYM  \n",
       "Date                                                     \n",
       "2016-12-16  102.594101  9.970118   84.560432  67.378433  \n",
       "2016-12-19  102.747910  9.960362   84.784843  67.598160  \n",
       "2016-12-20  103.218361  9.931096   85.063103  67.826653  \n",
       "2016-12-21  102.937897  9.950607   84.892563  67.668472  \n",
       "2016-12-22  102.840439  9.999384   84.842827  67.639214  \n",
       "...                ...       ...         ...        ...  \n",
       "2020-12-03  134.600006  6.950000  117.709999  90.769997  \n",
       "2020-12-04  136.320007  6.980000  119.150002  92.070000  \n",
       "2020-12-07  135.559998  6.960000  118.400002  91.459999  \n",
       "2020-12-08  136.029999  7.020000  118.940002  92.040001  \n",
       "2020-12-09  135.770004  6.970000  118.940002  92.099998  \n",
       "\n",
       "[1002 rows x 10 columns]"
      ],
      "text/html": "<div>\n<style scoped>\n    .dataframe tbody tr th:only-of-type {\n        vertical-align: middle;\n    }\n\n    .dataframe tbody tr th {\n        vertical-align: top;\n    }\n\n    .dataframe thead th {\n        text-align: right;\n    }\n</style>\n<table border=\"1\" class=\"dataframe\">\n  <thead>\n    <tr style=\"text-align: right;\">\n      <th></th>\n      <th>CAIBX</th>\n      <th>DFEVX</th>\n      <th>ESGN</th>\n      <th>ESGS</th>\n      <th>FAN</th>\n      <th>FKINX</th>\n      <th>IWD</th>\n      <th>TOPIX</th>\n      <th>VTV</th>\n      <th>VYM</th>\n    </tr>\n    <tr>\n      <th>Date</th>\n      <th></th>\n      <th></th>\n      <th></th>\n      <th></th>\n      <th></th>\n      <th></th>\n      <th></th>\n      <th></th>\n      <th></th>\n      <th></th>\n    </tr>\n  </thead>\n  <tbody>\n    <tr>\n      <th>2016-12-16</th>\n      <td>49.307808</td>\n      <td>21.805237</td>\n      <td>21.005085</td>\n      <td>22.155062</td>\n      <td>10.393728</td>\n      <td>1.860493</td>\n      <td>102.594101</td>\n      <td>9.970118</td>\n      <td>84.560432</td>\n      <td>67.378433</td>\n    </tr>\n    <tr>\n      <th>2016-12-19</th>\n      <td>49.375828</td>\n      <td>21.659864</td>\n      <td>21.134848</td>\n      <td>22.155062</td>\n      <td>10.393728</td>\n      <td>1.860493</td>\n      <td>102.747910</td>\n      <td>9.960362</td>\n      <td>84.784843</td>\n      <td>67.598160</td>\n    </tr>\n    <tr>\n      <th>2016-12-20</th>\n      <td>49.452358</td>\n      <td>21.659864</td>\n      <td>21.134848</td>\n      <td>22.147245</td>\n      <td>10.350132</td>\n      <td>1.860493</td>\n      <td>103.218361</td>\n      <td>9.931096</td>\n      <td>85.063103</td>\n      <td>67.826653</td>\n    </tr>\n    <tr>\n      <th>2016-12-21</th>\n      <td>49.375828</td>\n      <td>21.632610</td>\n      <td>21.134848</td>\n      <td>22.147245</td>\n      <td>10.431571</td>\n      <td>1.868582</td>\n      <td>102.937897</td>\n      <td>9.950607</td>\n      <td>84.892563</td>\n      <td>67.668472</td>\n    </tr>\n    <tr>\n      <th>2016-12-22</th>\n      <td>49.375828</td>\n      <td>21.432726</td>\n      <td>21.102407</td>\n      <td>22.053503</td>\n      <td>10.413269</td>\n      <td>1.860493</td>\n      <td>102.840439</td>\n      <td>9.999384</td>\n      <td>84.842827</td>\n      <td>67.639214</td>\n    </tr>\n    <tr>\n      <th>...</th>\n      <td>...</td>\n      <td>...</td>\n      <td>...</td>\n      <td>...</td>\n      <td>...</td>\n      <td>...</td>\n      <td>...</td>\n      <td>...</td>\n      <td>...</td>\n      <td>...</td>\n    </tr>\n    <tr>\n      <th>2020-12-03</th>\n      <td>62.680000</td>\n      <td>27.799999</td>\n      <td>24.986000</td>\n      <td>29.704000</td>\n      <td>20.830000</td>\n      <td>2.270000</td>\n      <td>134.600006</td>\n      <td>6.950000</td>\n      <td>117.709999</td>\n      <td>90.769997</td>\n    </tr>\n    <tr>\n      <th>2020-12-04</th>\n      <td>63.150002</td>\n      <td>28.120001</td>\n      <td>25.167999</td>\n      <td>30.225000</td>\n      <td>20.820000</td>\n      <td>2.290000</td>\n      <td>136.320007</td>\n      <td>6.980000</td>\n      <td>119.150002</td>\n      <td>92.070000</td>\n    </tr>\n    <tr>\n      <th>2020-12-07</th>\n      <td>63.020000</td>\n      <td>28.000000</td>\n      <td>24.920000</td>\n      <td>29.813000</td>\n      <td>20.840000</td>\n      <td>2.280000</td>\n      <td>135.559998</td>\n      <td>6.960000</td>\n      <td>118.400002</td>\n      <td>91.459999</td>\n    </tr>\n    <tr>\n      <th>2020-12-08</th>\n      <td>63.180000</td>\n      <td>27.950001</td>\n      <td>24.950001</td>\n      <td>30.103001</td>\n      <td>20.920000</td>\n      <td>2.290000</td>\n      <td>136.029999</td>\n      <td>7.020000</td>\n      <td>118.940002</td>\n      <td>92.040001</td>\n    </tr>\n    <tr>\n      <th>2020-12-09</th>\n      <td>63.150002</td>\n      <td>27.879999</td>\n      <td>25.066000</td>\n      <td>30.159000</td>\n      <td>20.830000</td>\n      <td>2.290000</td>\n      <td>135.770004</td>\n      <td>6.970000</td>\n      <td>118.940002</td>\n      <td>92.099998</td>\n    </tr>\n  </tbody>\n</table>\n<p>1002 rows × 10 columns</p>\n</div>"
     },
     "metadata": {},
     "execution_count": 8
    }
   ],
   "source": [
    "bad_funds = bad_funds[bad_funds.index >= green_funds.index.min()]['Adj Close']\n",
    "bad_funds"
   ]
  },
  {
   "cell_type": "code",
   "execution_count": 9,
   "metadata": {},
   "outputs": [
    {
     "output_type": "stream",
     "name": "stdout",
     "text": [
      "[*********************100%***********************]  1 of 1 completed\n"
     ]
    }
   ],
   "source": [
    "benchmark = yf.download(\n",
    "        tickers = 'IVV',\n",
    "        start=\"2016-12-17\"\n",
    "    )"
   ]
  },
  {
   "cell_type": "code",
   "execution_count": 10,
   "metadata": {},
   "outputs": [
    {
     "output_type": "stream",
     "name": "stdout",
     "text": [
      "[*********************100%***********************]  1 of 1 completed\n"
     ]
    }
   ],
   "source": [
    "oil = yf.download(\n",
    "        tickers = 'CL=F',\n",
    "        start=\"2016-12-17\"\n",
    "    )"
   ]
  },
  {
   "cell_type": "code",
   "execution_count": 11,
   "metadata": {},
   "outputs": [],
   "source": [
    "oil = oil[oil.index.isin(green_funds.index)]\n",
    "green_funds = green_funds[green_funds.index.isin(oil.index)]\n",
    "bad_funds = bad_funds[bad_funds.index.isin(oil.index)]\n",
    "benchmark = benchmark[benchmark.index.isin(oil.index)]"
   ]
  },
  {
   "cell_type": "code",
   "execution_count": 12,
   "metadata": {},
   "outputs": [],
   "source": [
    "green_funds['Adj Close'].to_csv('data/green_funds.csv')\n",
    "bad_funds.to_csv('data/bad_funds.csv')\n",
    "benchmark['Adj Close'].to_csv('data/benchmark.csv')\n",
    "oil['Adj Close'].to_csv('data/oil.csv')"
   ]
  },
  {
   "cell_type": "code",
   "execution_count": 2,
   "metadata": {},
   "outputs": [
    {
     "output_type": "stream",
     "name": "stdout",
     "text": [
      "[*********************100%***********************]  8 of 8 completed\n"
     ]
    },
    {
     "output_type": "execute_result",
     "data": {
      "text/plain": [
       "                    DE         DHR         GOOG        MSFT       REGI  \\\n",
       "Date                                                                     \n",
       "2014-01-02   77.410187   37.943386   554.481689   32.131168  11.840000   \n",
       "2014-01-03   77.753242   37.997978   550.436829   31.914997  11.790000   \n",
       "2014-01-06   77.110039   37.665455   556.573853   31.240557  11.470000   \n",
       "2014-01-07   77.453064   37.978138   567.303589   31.482662  11.260000   \n",
       "2014-01-08   76.621170   37.997978   568.484192   30.920624  10.900000   \n",
       "...                ...         ...          ...         ...        ...   \n",
       "2019-12-24  171.298630  152.661194  1343.560059  155.730255  27.059999   \n",
       "2019-12-26  171.593124  152.312363  1360.400024  157.006729  27.500000   \n",
       "2019-12-27  172.584610  152.372177  1351.890015  157.293686  27.219999   \n",
       "2019-12-30  171.707138  152.332275  1336.140015  155.938049  26.760000   \n",
       "2019-12-31  170.819809  152.970154  1337.020020  156.046890  26.950001   \n",
       "\n",
       "                   TMO         VZ         ZTS  \n",
       "Date                                           \n",
       "2014-01-02  106.970985  35.812248   30.718561  \n",
       "2014-01-03  107.380798  35.388348   30.424290  \n",
       "2014-01-06  107.390556  35.585686   30.357840  \n",
       "2014-01-07  109.585976  36.031502   30.471750  \n",
       "2014-01-08  111.274002  35.832027   30.130013  \n",
       "...                ...        ...         ...  \n",
       "2019-12-24  325.877655  58.712044  132.162842  \n",
       "2019-12-26  325.079163  58.721626  132.272202  \n",
       "2019-12-27  325.917542  58.951569  132.490967  \n",
       "2019-12-30  324.410492  58.644978  131.456894  \n",
       "2019-12-31  324.240784  58.827019  131.596085  \n",
       "\n",
       "[1510 rows x 8 columns]"
      ],
      "text/html": "<div>\n<style scoped>\n    .dataframe tbody tr th:only-of-type {\n        vertical-align: middle;\n    }\n\n    .dataframe tbody tr th {\n        vertical-align: top;\n    }\n\n    .dataframe thead th {\n        text-align: right;\n    }\n</style>\n<table border=\"1\" class=\"dataframe\">\n  <thead>\n    <tr style=\"text-align: right;\">\n      <th></th>\n      <th>DE</th>\n      <th>DHR</th>\n      <th>GOOG</th>\n      <th>MSFT</th>\n      <th>REGI</th>\n      <th>TMO</th>\n      <th>VZ</th>\n      <th>ZTS</th>\n    </tr>\n    <tr>\n      <th>Date</th>\n      <th></th>\n      <th></th>\n      <th></th>\n      <th></th>\n      <th></th>\n      <th></th>\n      <th></th>\n      <th></th>\n    </tr>\n  </thead>\n  <tbody>\n    <tr>\n      <th>2014-01-02</th>\n      <td>77.410187</td>\n      <td>37.943386</td>\n      <td>554.481689</td>\n      <td>32.131168</td>\n      <td>11.840000</td>\n      <td>106.970985</td>\n      <td>35.812248</td>\n      <td>30.718561</td>\n    </tr>\n    <tr>\n      <th>2014-01-03</th>\n      <td>77.753242</td>\n      <td>37.997978</td>\n      <td>550.436829</td>\n      <td>31.914997</td>\n      <td>11.790000</td>\n      <td>107.380798</td>\n      <td>35.388348</td>\n      <td>30.424290</td>\n    </tr>\n    <tr>\n      <th>2014-01-06</th>\n      <td>77.110039</td>\n      <td>37.665455</td>\n      <td>556.573853</td>\n      <td>31.240557</td>\n      <td>11.470000</td>\n      <td>107.390556</td>\n      <td>35.585686</td>\n      <td>30.357840</td>\n    </tr>\n    <tr>\n      <th>2014-01-07</th>\n      <td>77.453064</td>\n      <td>37.978138</td>\n      <td>567.303589</td>\n      <td>31.482662</td>\n      <td>11.260000</td>\n      <td>109.585976</td>\n      <td>36.031502</td>\n      <td>30.471750</td>\n    </tr>\n    <tr>\n      <th>2014-01-08</th>\n      <td>76.621170</td>\n      <td>37.997978</td>\n      <td>568.484192</td>\n      <td>30.920624</td>\n      <td>10.900000</td>\n      <td>111.274002</td>\n      <td>35.832027</td>\n      <td>30.130013</td>\n    </tr>\n    <tr>\n      <th>...</th>\n      <td>...</td>\n      <td>...</td>\n      <td>...</td>\n      <td>...</td>\n      <td>...</td>\n      <td>...</td>\n      <td>...</td>\n      <td>...</td>\n    </tr>\n    <tr>\n      <th>2019-12-24</th>\n      <td>171.298630</td>\n      <td>152.661194</td>\n      <td>1343.560059</td>\n      <td>155.730255</td>\n      <td>27.059999</td>\n      <td>325.877655</td>\n      <td>58.712044</td>\n      <td>132.162842</td>\n    </tr>\n    <tr>\n      <th>2019-12-26</th>\n      <td>171.593124</td>\n      <td>152.312363</td>\n      <td>1360.400024</td>\n      <td>157.006729</td>\n      <td>27.500000</td>\n      <td>325.079163</td>\n      <td>58.721626</td>\n      <td>132.272202</td>\n    </tr>\n    <tr>\n      <th>2019-12-27</th>\n      <td>172.584610</td>\n      <td>152.372177</td>\n      <td>1351.890015</td>\n      <td>157.293686</td>\n      <td>27.219999</td>\n      <td>325.917542</td>\n      <td>58.951569</td>\n      <td>132.490967</td>\n    </tr>\n    <tr>\n      <th>2019-12-30</th>\n      <td>171.707138</td>\n      <td>152.332275</td>\n      <td>1336.140015</td>\n      <td>155.938049</td>\n      <td>26.760000</td>\n      <td>324.410492</td>\n      <td>58.644978</td>\n      <td>131.456894</td>\n    </tr>\n    <tr>\n      <th>2019-12-31</th>\n      <td>170.819809</td>\n      <td>152.970154</td>\n      <td>1337.020020</td>\n      <td>156.046890</td>\n      <td>26.950001</td>\n      <td>324.240784</td>\n      <td>58.827019</td>\n      <td>131.596085</td>\n    </tr>\n  </tbody>\n</table>\n<p>1510 rows × 8 columns</p>\n</div>"
     },
     "metadata": {},
     "execution_count": 2
    }
   ],
   "source": [
    "green_portfolio = yf.download(\n",
    "        tickers = ['TMO', 'DHR', 'VZ', 'DE', 'MSFT', 'ZTS', 'GOOG', 'REGI'],\n",
    "        start=\"2014-01-02\",\n",
    "        end='2020-01-01'\n",
    "    )['Adj Close']\n",
    "green_portfolio"
   ]
  },
  {
   "cell_type": "code",
   "execution_count": 3,
   "metadata": {},
   "outputs": [],
   "source": [
    "green_portfolio.to_csv('data/green_portfolio.csv')"
   ]
  },
  {
   "cell_type": "code",
   "execution_count": 4,
   "metadata": {},
   "outputs": [
    {
     "output_type": "stream",
     "name": "stdout",
     "text": [
      "[*********************100%***********************]  8 of 8 completed\n"
     ]
    },
    {
     "output_type": "execute_result",
     "data": {
      "text/plain": [
       "                  ADM        AES        BAC         BG          D         JNJ  \\\n",
       "Date                                                                            \n",
       "2014-01-02  35.044121  11.137150  14.311323  67.413834  47.919720   75.168175   \n",
       "2014-01-03  35.207142  11.082516  14.586881  66.862450  47.866970   75.845299   \n",
       "2014-01-06  35.280521  11.191781  14.809108  66.730797  47.874500   76.241653   \n",
       "2014-01-07  34.929989  11.386894  14.666881  67.191635  48.756317   77.860161   \n",
       "2014-01-08  34.530560  11.160563  14.737992  66.928284  48.809078   77.752800   \n",
       "...               ...        ...        ...        ...        ...         ...   \n",
       "2019-12-24  44.571293  19.103735  34.300117  54.664997  78.046478  142.067749   \n",
       "2019-12-26  44.687363  19.268091  34.592278  54.981201  78.142395  141.970413   \n",
       "2019-12-27  44.784088  19.316429  34.426716  54.971619  78.660408  141.892517   \n",
       "2019-12-30  44.609985  19.374439  34.231945  54.760822  78.737160  141.454437   \n",
       "2019-12-31  44.832455  19.239084  34.300117  55.144096  79.447014  142.009354   \n",
       "\n",
       "                   JPM         MCD  \n",
       "Date                                \n",
       "2014-01-02   47.986519   78.482323  \n",
       "2014-01-03   48.357494   78.588135  \n",
       "2014-01-06   48.637775   78.026466  \n",
       "2014-01-07   48.077198   78.457878  \n",
       "2014-01-08   48.530605   77.668266  \n",
       "...                ...         ...  \n",
       "2019-12-24  132.758896  191.882721  \n",
       "2019-12-26  134.167709  192.263199  \n",
       "2019-12-27  134.264221  193.346176  \n",
       "2019-12-30  133.772079  192.116867  \n",
       "2019-12-31  134.515091  192.799820  \n",
       "\n",
       "[1510 rows x 8 columns]"
      ],
      "text/html": "<div>\n<style scoped>\n    .dataframe tbody tr th:only-of-type {\n        vertical-align: middle;\n    }\n\n    .dataframe tbody tr th {\n        vertical-align: top;\n    }\n\n    .dataframe thead th {\n        text-align: right;\n    }\n</style>\n<table border=\"1\" class=\"dataframe\">\n  <thead>\n    <tr style=\"text-align: right;\">\n      <th></th>\n      <th>ADM</th>\n      <th>AES</th>\n      <th>BAC</th>\n      <th>BG</th>\n      <th>D</th>\n      <th>JNJ</th>\n      <th>JPM</th>\n      <th>MCD</th>\n    </tr>\n    <tr>\n      <th>Date</th>\n      <th></th>\n      <th></th>\n      <th></th>\n      <th></th>\n      <th></th>\n      <th></th>\n      <th></th>\n      <th></th>\n    </tr>\n  </thead>\n  <tbody>\n    <tr>\n      <th>2014-01-02</th>\n      <td>35.044121</td>\n      <td>11.137150</td>\n      <td>14.311323</td>\n      <td>67.413834</td>\n      <td>47.919720</td>\n      <td>75.168175</td>\n      <td>47.986519</td>\n      <td>78.482323</td>\n    </tr>\n    <tr>\n      <th>2014-01-03</th>\n      <td>35.207142</td>\n      <td>11.082516</td>\n      <td>14.586881</td>\n      <td>66.862450</td>\n      <td>47.866970</td>\n      <td>75.845299</td>\n      <td>48.357494</td>\n      <td>78.588135</td>\n    </tr>\n    <tr>\n      <th>2014-01-06</th>\n      <td>35.280521</td>\n      <td>11.191781</td>\n      <td>14.809108</td>\n      <td>66.730797</td>\n      <td>47.874500</td>\n      <td>76.241653</td>\n      <td>48.637775</td>\n      <td>78.026466</td>\n    </tr>\n    <tr>\n      <th>2014-01-07</th>\n      <td>34.929989</td>\n      <td>11.386894</td>\n      <td>14.666881</td>\n      <td>67.191635</td>\n      <td>48.756317</td>\n      <td>77.860161</td>\n      <td>48.077198</td>\n      <td>78.457878</td>\n    </tr>\n    <tr>\n      <th>2014-01-08</th>\n      <td>34.530560</td>\n      <td>11.160563</td>\n      <td>14.737992</td>\n      <td>66.928284</td>\n      <td>48.809078</td>\n      <td>77.752800</td>\n      <td>48.530605</td>\n      <td>77.668266</td>\n    </tr>\n    <tr>\n      <th>...</th>\n      <td>...</td>\n      <td>...</td>\n      <td>...</td>\n      <td>...</td>\n      <td>...</td>\n      <td>...</td>\n      <td>...</td>\n      <td>...</td>\n    </tr>\n    <tr>\n      <th>2019-12-24</th>\n      <td>44.571293</td>\n      <td>19.103735</td>\n      <td>34.300117</td>\n      <td>54.664997</td>\n      <td>78.046478</td>\n      <td>142.067749</td>\n      <td>132.758896</td>\n      <td>191.882721</td>\n    </tr>\n    <tr>\n      <th>2019-12-26</th>\n      <td>44.687363</td>\n      <td>19.268091</td>\n      <td>34.592278</td>\n      <td>54.981201</td>\n      <td>78.142395</td>\n      <td>141.970413</td>\n      <td>134.167709</td>\n      <td>192.263199</td>\n    </tr>\n    <tr>\n      <th>2019-12-27</th>\n      <td>44.784088</td>\n      <td>19.316429</td>\n      <td>34.426716</td>\n      <td>54.971619</td>\n      <td>78.660408</td>\n      <td>141.892517</td>\n      <td>134.264221</td>\n      <td>193.346176</td>\n    </tr>\n    <tr>\n      <th>2019-12-30</th>\n      <td>44.609985</td>\n      <td>19.374439</td>\n      <td>34.231945</td>\n      <td>54.760822</td>\n      <td>78.737160</td>\n      <td>141.454437</td>\n      <td>133.772079</td>\n      <td>192.116867</td>\n    </tr>\n    <tr>\n      <th>2019-12-31</th>\n      <td>44.832455</td>\n      <td>19.239084</td>\n      <td>34.300117</td>\n      <td>55.144096</td>\n      <td>79.447014</td>\n      <td>142.009354</td>\n      <td>134.515091</td>\n      <td>192.799820</td>\n    </tr>\n  </tbody>\n</table>\n<p>1510 rows × 8 columns</p>\n</div>"
     },
     "metadata": {},
     "execution_count": 4
    }
   ],
   "source": [
    "bad_portfolio = yf.download(\n",
    "        tickers = ['D', 'AES', 'ADM', 'BG', 'MCD', 'JNJ', 'JPM', 'BAC'],\n",
    "        start=\"2014-01-02\",\n",
    "        end='2020-01-01'\n",
    "    )['Adj Close']\n",
    "bad_portfolio"
   ]
  },
  {
   "cell_type": "code",
   "execution_count": 5,
   "metadata": {},
   "outputs": [],
   "source": [
    "bad_portfolio.to_csv('data/bad_portfolio.csv')"
   ]
  },
  {
   "cell_type": "code",
   "execution_count": 6,
   "metadata": {},
   "outputs": [
    {
     "output_type": "stream",
     "name": "stdout",
     "text": [
      "[*********************100%***********************]  1 of 1 completed\n"
     ]
    },
    {
     "output_type": "execute_result",
     "data": {
      "text/plain": [
       "Date\n",
       "2014-01-02    1831.979980\n",
       "2014-01-03    1831.369995\n",
       "2014-01-06    1826.770020\n",
       "2014-01-07    1837.880005\n",
       "2014-01-08    1837.489990\n",
       "                 ...     \n",
       "2019-12-24    3223.379883\n",
       "2019-12-26    3239.909912\n",
       "2019-12-27    3240.020020\n",
       "2019-12-30    3221.290039\n",
       "2019-12-31    3230.780029\n",
       "Name: Adj Close, Length: 1510, dtype: float64"
      ]
     },
     "metadata": {},
     "execution_count": 6
    }
   ],
   "source": [
    "sp500 = yf.download(\n",
    "        tickers = '^GSPC',\n",
    "        start=\"2014-01-02\",\n",
    "        end='2020-01-01'\n",
    "    )['Adj Close']\n",
    "sp500"
   ]
  },
  {
   "cell_type": "code",
   "execution_count": 7,
   "metadata": {},
   "outputs": [],
   "source": [
    "sp500.to_csv('data/sp500.csv')"
   ]
  },
  {
   "cell_type": "code",
   "execution_count": null,
   "metadata": {},
   "outputs": [],
   "source": []
  }
 ]
}