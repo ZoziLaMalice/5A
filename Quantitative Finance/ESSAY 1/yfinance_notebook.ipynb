{
 "cells": [
  {
   "cell_type": "code",
   "execution_count": 1,
   "metadata": {},
   "outputs": [],
   "source": [
    "import yfinance as yf\n",
    "import pandas as pd\n",
    "import csv\n",
    "from tqdm import tqdm\n",
    "import html5lib"
   ]
  },
  {
   "cell_type": "code",
   "execution_count": 2,
   "metadata": {},
   "outputs": [
    {
     "output_type": "execute_result",
     "data": {
      "text/plain": "['MMM', 'ABT', 'ABBV', 'ABMD', 'ACN']"
     },
     "metadata": {},
     "execution_count": 2
    }
   ],
   "source": [
    "with open('sp500.csv', newline='') as f:\n",
    "    reader = csv.reader(f)\n",
    "    sp500 = [val for sublist in list(reader) for val in sublist]\n",
    "\n",
    "sp500.remove('GOOGL')\n",
    "sp500.append('GOOG')\n",
    "sp500[:5]"
   ]
  },
  {
   "cell_type": "code",
   "execution_count": 7,
   "metadata": {
    "tags": []
   },
   "outputs": [
    {
     "output_type": "stream",
     "name": "stderr",
     "text": "100%|██████████| 505/505 [23:39<00:00,  2.81s/it]\n"
    }
   ],
   "source": [
    "stocks_sectors = {}\n",
    "errors = []\n",
    "\n",
    "for stock in tqdm(sp500):\n",
    "    try:\n",
    "        stocks_sectors[stock] = [yf.Ticker(stock).info['sector'], yf.Ticker(stock).info['shortName']]\n",
    "    except Exception as e:\n",
    "        errors.append([e, stock])"
   ]
  },
  {
   "cell_type": "code",
   "execution_count": 17,
   "metadata": {
    "tags": []
   },
   "outputs": [],
   "source": [
    "stocks_NA = {}\n",
    "for s in errors:\n",
    "    stocks_NA[s[1]] = ['No Information', 'No Information']"
   ]
  },
  {
   "cell_type": "code",
   "execution_count": 18,
   "metadata": {},
   "outputs": [],
   "source": [
    "all_stocks = {**stocks_sectors, ** stocks_NA}"
   ]
  },
  {
   "cell_type": "code",
   "execution_count": 19,
   "metadata": {},
   "outputs": [],
   "source": [
    "all_stocks = sorted(all_stocks.items())"
   ]
  },
  {
   "cell_type": "code",
   "execution_count": 45,
   "metadata": {},
   "outputs": [],
   "source": [
    "clean_all_stocks = []\n",
    "\n",
    "for i in range(len(all_stocks)):\n",
    "    clean_all_stocks.append([all_stocks[i][0],\n",
    "                            all_stocks[i][1][0],\n",
    "                            all_stocks[i][1][1]])"
   ]
  },
  {
   "cell_type": "code",
   "execution_count": 47,
   "metadata": {},
   "outputs": [],
   "source": [
    "import csv\n",
    "f = open('sp500_sectors.csv', 'w')\n",
    "\n",
    "with f:\n",
    "    writer = csv.writer(f)\n",
    "    for row in clean_all_stocks:\n",
    "        writer.writerow(row)"
   ]
  },
  {
   "cell_type": "code",
   "execution_count": 48,
   "metadata": {},
   "outputs": [
    {
     "output_type": "execute_result",
     "data": {
      "text/plain": "[['A', 'Healthcare', 'Agilent Technologies, Inc.'],\n ['AAL', 'Industrials', 'American Airlines Group, Inc.'],\n ['AAP', 'Consumer Cyclical', 'Advance Auto Parts Inc Advance '],\n ['AAPL', 'Technology', 'Apple Inc.'],\n ['ABBV', 'Healthcare', 'AbbVie Inc.']]"
     },
     "metadata": {},
     "execution_count": 48
    }
   ],
   "source": [
    "with open('sp500_sectors.csv', newline='') as f:\n",
    "    reader = csv.reader(f)\n",
    "    sp500_s = list(reader)\n",
    "\n",
    "sp500_s[:5]"
   ]
  },
  {
   "cell_type": "code",
   "execution_count": 77,
   "metadata": {},
   "outputs": [],
   "source": [
    "with open('sp500_sectors.csv', newline='') as f:\n",
    "    reader = csv.reader(f)\n",
    "    sp500_s = list(reader)\n",
    "\n",
    "clean_sp500 = {\n",
    " 'Basic Materials': [],\n",
    " 'Communication Services': [],\n",
    " 'Consumer Cyclical': [],\n",
    " 'Consumer Defensive': [],\n",
    " 'Energy': [],\n",
    " 'Financial Services': [],\n",
    " 'Healthcare': [],\n",
    " 'Industrials': [],\n",
    " 'Real Estate': [],\n",
    " 'Technology': [],\n",
    " 'Utilities': [],\n",
    " 'No Information': []\n",
    "}\n",
    "\n",
    "for sector, value in clean_sp500.items():\n",
    "    for row in sp500_s:\n",
    "        if sector == row[1]:\n",
    "            clean_sp500[row[1]] += [row[0], row[2]]"
   ]
  },
  {
   "cell_type": "code",
   "execution_count": 84,
   "metadata": {
    "tags": []
   },
   "outputs": [
    {
     "output_type": "stream",
     "name": "stdout",
     "text": "symbol AEE\nname Ameren Corporation\nsymbol AEP\nname American Electric Power Company\nsymbol AES\nname The AES Corporation\nsymbol ATO\nname Atmos Energy Corporation\nsymbol AWK\nname American Water Works Company, I\nsymbol CMS\nname CMS Energy Corporation\nsymbol CNP\nname CenterPoint Energy, Inc (Holdin\nsymbol D\nname Dominion Energy, Inc.\nsymbol DTE\nname DTE Energy Company\nsymbol ED\nname Consolidated Edison, Inc.\nsymbol EIX\nname Edison International\nsymbol ES\nname Eversource Energy (D/B/A)\nsymbol EXC\nname Exelon Corporation\nsymbol LNT\nname Alliant Energy Corporation\nsymbol NRG\nname NRG Energy, Inc.\nsymbol SO\nname Southern Company (The)\nsymbol SRE\nname Sempra Energy\n"
    }
   ],
   "source": [
    "for i in range(len(clean_sp500['Utilities'])):\n",
    "    if i % 2 == 0:\n",
    "        print('symbol', clean_sp500['Utilities'][i])\n",
    "    else:\n",
    "        print('name', clean_sp500['Utilities'][i])"
   ]
  },
  {
   "cell_type": "code",
   "execution_count": 89,
   "metadata": {},
   "outputs": [
    {
     "output_type": "execute_result",
     "data": {
      "text/plain": "[{'label': 'AEE', 'value': 'Ameren Corporation'},\n {'label': 'AEP', 'value': 'American Electric Power Company'},\n {'label': 'AES', 'value': 'The AES Corporation'},\n {'label': 'ATO', 'value': 'Atmos Energy Corporation'},\n {'label': 'AWK', 'value': 'American Water Works Company, I'},\n {'label': 'CMS', 'value': 'CMS Energy Corporation'},\n {'label': 'CNP', 'value': 'CenterPoint Energy, Inc (Holdin'},\n {'label': 'D', 'value': 'Dominion Energy, Inc.'},\n {'label': 'DTE', 'value': 'DTE Energy Company'},\n {'label': 'ED', 'value': 'Consolidated Edison, Inc.'},\n {'label': 'EIX', 'value': 'Edison International'},\n {'label': 'ES', 'value': 'Eversource Energy (D/B/A)'},\n {'label': 'EXC', 'value': 'Exelon Corporation'},\n {'label': 'LNT', 'value': 'Alliant Energy Corporation'},\n {'label': 'NRG', 'value': 'NRG Energy, Inc.'},\n {'label': 'SO', 'value': 'Southern Company (The)'},\n {'label': 'SRE', 'value': 'Sempra Energy'}]"
     },
     "metadata": {},
     "execution_count": 89
    }
   ],
   "source": [
    "[{'label': clean_sp500['Utilities'][i], 'value': clean_sp500['Utilities'][i+1]} for i in range(len(clean_sp500['Utilities'])) if i % 2 ==0]"
   ]
  },
  {
   "cell_type": "code",
   "execution_count": 88,
   "metadata": {},
   "outputs": [
    {
     "output_type": "execute_result",
     "data": {
      "text/plain": "'Sempra Energy'"
     },
     "metadata": {},
     "execution_count": 88
    }
   ],
   "source": [
    "clean_sp500['Utilities'][33]"
   ]
  },
  {
   "cell_type": "code",
   "execution_count": 57,
   "metadata": {
    "tags": []
   },
   "outputs": [
    {
     "output_type": "stream",
     "name": "stdout",
     "text": "AEE\nAmeren Corporation\nAEP\nAmerican Electric Power Company\nAES\nThe AES Corporation\nATO\nAtmos Energy Corporation\nAWK\nAmerican Water Works Company, I\nCMS\nCMS Energy Corporation\nCNP\nCenterPoint Energy, Inc (Holdin\nD\nDominion Energy, Inc.\nDTE\nDTE Energy Company\nED\nConsolidated Edison, Inc.\nEIX\nEdison International\nES\nEversource Energy (D/B/A)\nEXC\nExelon Corporation\nLNT\nAlliant Energy Corporation\nNRG\nNRG Energy, Inc.\nSO\nSouthern Company (The)\nSRE\nSempra Energy\n"
    }
   ],
   "source": [
    "for i in clean_sp500['Utilities']:\n",
    "    print(i)"
   ]
  },
  {
   "cell_type": "code",
   "execution_count": 5,
   "metadata": {},
   "outputs": [
    {
     "output_type": "execute_result",
     "data": {
      "text/plain": "{'Basic Materials': 0,\n 'Communication Services': 1,\n 'Consumer Cyclical': 2,\n 'Consumer Defensive': 3,\n 'Energy': 4,\n 'Financial Services': 5,\n 'Healthcare': 6,\n 'Industrials': 7,\n 'Real Estate': 8,\n 'Technology': 9,\n 'Utilities': 10}"
     },
     "metadata": {},
     "execution_count": 5
    }
   ],
   "source": [
    "selection = dict(zip(sectors, range(len(sectors))))\n",
    "selection"
   ]
  },
  {
   "cell_type": "code",
   "execution_count": 6,
   "metadata": {
    "tags": []
   },
   "outputs": [
    {
     "output_type": "stream",
     "name": "stdout",
     "text": "Basic Materials\nCommunication Services\nConsumer Cyclical\nConsumer Defensive\nEnergy\nFinancial Services\nHealthcare\nIndustrials\nReal Estate\nTechnology\nUtilities\n"
    }
   ],
   "source": [
    "for k in selection:\n",
    "    print(k)"
   ]
  },
  {
   "cell_type": "code",
   "execution_count": 4,
   "metadata": {},
   "outputs": [],
   "source": [
    "# get historical market data\n",
    "hist = yf.Ticker('GOOG').history(period=\"2y\")"
   ]
  },
  {
   "cell_type": "code",
   "execution_count": 5,
   "metadata": {},
   "outputs": [
    {
     "output_type": "execute_result",
     "data": {
      "text/plain": "              Open         High         Low        Close        Volume  \\\ncount   505.000000   505.000000   505.00000   505.000000  5.050000e+02   \nmean   1244.595584  1258.354653  1231.91895  1245.953465  1.684050e+06   \nstd     153.885775   155.161124   153.80795   155.154345  7.552536e+05   \nmin     973.900000  1003.540000   970.11000   976.220000  3.475000e+05   \n25%    1122.000000  1132.800000  1109.02000  1120.160000  1.221900e+06   \n50%    1200.740000  1212.020000  1193.08000  1204.800000  1.479900e+06   \n75%    1355.870000  1368.140000  1344.47000  1355.120000  1.888500e+06   \nmax    1709.710000  1733.180000  1666.33000  1728.280000  6.207000e+06   \n\n       Dividends  Stock Splits  \ncount      505.0         505.0  \nmean         0.0           0.0  \nstd          0.0           0.0  \nmin          0.0           0.0  \n25%          0.0           0.0  \n50%          0.0           0.0  \n75%          0.0           0.0  \nmax          0.0           0.0  ",
      "text/html": "<div>\n<style scoped>\n    .dataframe tbody tr th:only-of-type {\n        vertical-align: middle;\n    }\n\n    .dataframe tbody tr th {\n        vertical-align: top;\n    }\n\n    .dataframe thead th {\n        text-align: right;\n    }\n</style>\n<table border=\"1\" class=\"dataframe\">\n  <thead>\n    <tr style=\"text-align: right;\">\n      <th></th>\n      <th>Open</th>\n      <th>High</th>\n      <th>Low</th>\n      <th>Close</th>\n      <th>Volume</th>\n      <th>Dividends</th>\n      <th>Stock Splits</th>\n    </tr>\n  </thead>\n  <tbody>\n    <tr>\n      <th>count</th>\n      <td>505.000000</td>\n      <td>505.000000</td>\n      <td>505.00000</td>\n      <td>505.000000</td>\n      <td>5.050000e+02</td>\n      <td>505.0</td>\n      <td>505.0</td>\n    </tr>\n    <tr>\n      <th>mean</th>\n      <td>1244.595584</td>\n      <td>1258.354653</td>\n      <td>1231.91895</td>\n      <td>1245.953465</td>\n      <td>1.684050e+06</td>\n      <td>0.0</td>\n      <td>0.0</td>\n    </tr>\n    <tr>\n      <th>std</th>\n      <td>153.885775</td>\n      <td>155.161124</td>\n      <td>153.80795</td>\n      <td>155.154345</td>\n      <td>7.552536e+05</td>\n      <td>0.0</td>\n      <td>0.0</td>\n    </tr>\n    <tr>\n      <th>min</th>\n      <td>973.900000</td>\n      <td>1003.540000</td>\n      <td>970.11000</td>\n      <td>976.220000</td>\n      <td>3.475000e+05</td>\n      <td>0.0</td>\n      <td>0.0</td>\n    </tr>\n    <tr>\n      <th>25%</th>\n      <td>1122.000000</td>\n      <td>1132.800000</td>\n      <td>1109.02000</td>\n      <td>1120.160000</td>\n      <td>1.221900e+06</td>\n      <td>0.0</td>\n      <td>0.0</td>\n    </tr>\n    <tr>\n      <th>50%</th>\n      <td>1200.740000</td>\n      <td>1212.020000</td>\n      <td>1193.08000</td>\n      <td>1204.800000</td>\n      <td>1.479900e+06</td>\n      <td>0.0</td>\n      <td>0.0</td>\n    </tr>\n    <tr>\n      <th>75%</th>\n      <td>1355.870000</td>\n      <td>1368.140000</td>\n      <td>1344.47000</td>\n      <td>1355.120000</td>\n      <td>1.888500e+06</td>\n      <td>0.0</td>\n      <td>0.0</td>\n    </tr>\n    <tr>\n      <th>max</th>\n      <td>1709.710000</td>\n      <td>1733.180000</td>\n      <td>1666.33000</td>\n      <td>1728.280000</td>\n      <td>6.207000e+06</td>\n      <td>0.0</td>\n      <td>0.0</td>\n    </tr>\n  </tbody>\n</table>\n</div>"
     },
     "metadata": {},
     "execution_count": 5
    }
   ],
   "source": [
    "hist.describe()"
   ]
  },
  {
   "cell_type": "code",
   "execution_count": 6,
   "metadata": {
    "tags": []
   },
   "outputs": [
    {
     "output_type": "stream",
     "name": "stdout",
     "text": "{'zip': '94043', 'sector': 'Communication Services', 'fullTimeEmployees': 127498, 'longBusinessSummary': 'Alphabet Inc. provides online advertising services in the United States, Europe, the Middle East, Africa, the Asia-Pacific, Canada, and Latin America. It offers performance and brand advertising services. The company operates through Google and Other Bets segments. The Google segment offers products, such as Ads, Android, Chrome, Google Cloud, Google Maps, Google Play, Hardware, Search, and YouTube, as well as technical infrastructure. It also offers digital content, cloud services, hardware devices, and other miscellaneous products and services. The Other Bets segment includes businesses, including Access, Calico, CapitalG, GV, Verily, Waymo, and X, as well as Internet and television services. Alphabet Inc. was founded in 1998 and is headquartered in Mountain View, California.', 'city': 'Mountain View', 'phone': '650-253-0000', 'state': 'CA', 'country': 'United States', 'companyOfficers': [], 'website': 'http://www.abc.xyz', 'maxAge': 1, 'address1': '1600 Amphitheatre Parkway', 'industry': 'Internet Content & Information', 'previousClose': 1728.28, 'regularMarketOpen': 1709.71, 'twoHundredDayAverage': 1391.9392, 'trailingAnnualDividendYield': None, 'payoutRatio': 0, 'volume24Hr': None, 'regularMarketDayHigh': 1709.7144, 'navPrice': None, 'averageDailyVolume10Day': 2358000, 'totalAssets': None, 'regularMarketPreviousClose': 1728.28, 'fiftyDayAverage': 1550.4547, 'trailingAnnualDividendRate': None, 'open': 1709.71, 'toCurrency': None, 'averageVolume10days': 2358000, 'expireDate': None, 'yield': None, 'algorithm': None, 'dividendRate': None, 'exDividendDate': None, 'beta': 1.07525, 'circulatingSupply': None, 'startDate': None, 'regularMarketDayLow': 1615.06, 'priceHint': 2, 'currency': 'USD', 'trailingPE': 36.09074, 'regularMarketVolume': 3057470, 'lastMarket': None, 'maxSupply': None, 'openInterest': None, 'marketCap': 1113134727168, 'volumeAllCurrencies': None, 'strikePrice': None, 'averageVolume': 1778350, 'priceToSalesTrailing12Months': 6.704419, 'dayLow': 1615.06, 'ask': 0, 'ytdReturn': None, 'askSize': 800, 'volume': 3057470, 'fiftyTwoWeekHigh': 1733.18, 'forwardPE': 29.095161, 'fromCurrency': None, 'fiveYearAvgDividendYield': None, 'fiftyTwoWeekLow': 1013.536, 'bid': 0, 'tradeable': False, 'dividendYield': None, 'bidSize': 900, 'dayHigh': 1709.7144, 'exchange': 'NMS', 'shortName': 'Alphabet Inc.', 'longName': 'Alphabet Inc.', 'exchangeTimezoneName': 'America/New_York', 'exchangeTimezoneShortName': 'EDT', 'isEsgPopulated': False, 'gmtOffSetMilliseconds': '-14400000', 'quoteType': 'EQUITY', 'symbol': 'GOOG', 'messageBoardId': 'finmb_29096', 'market': 'us_market', 'annualHoldingsTurnover': None, 'enterpriseToRevenue': 6.448, 'beta3Year': None, 'profitMargins': 0.18993, 'enterpriseToEbitda': 23.256, '52WeekChange': 0.36260188, 'morningStarRiskRating': None, 'forwardEps': 56.43, 'revenueQuarterlyGrowth': None, 'sharesOutstanding': 333631008, 'fundInceptionDate': None, 'annualReportExpenseRatio': None, 'bookValue': 304.342, 'sharesShort': 2472852, 'sharesPercentSharesOut': 0.0023999999, 'fundFamily': None, 'lastFiscalYearEnd': 1577750400, 'heldPercentInstitutions': 0.7062, 'netIncomeToCommon': 31534000128, 'trailingEps': 45.492, 'lastDividendValue': None, 'SandP52WeekChange': 0.15991831, 'priceToBook': 5.39472, 'heldPercentInsiders': 0.05746, 'nextFiscalYearEnd': 1640908800, 'mostRecentQuarter': 1593475200, 'shortRatio': 0.99, 'sharesShortPreviousMonthDate': 1594771200, 'floatShares': 610528482, 'enterpriseValue': 1070576238592, 'threeYearAverageReturn': None, 'lastSplitDate': 1430092800, 'lastSplitFactor': '10000000:10000000', 'legalType': None, 'morningStarOverallRating': None, 'earningsQuarterlyGrowth': -0.3, 'dateShortInterest': 1597363200, 'pegRatio': 6.1, 'lastCapGain': None, 'shortPercentOfFloat': None, 'sharesShortPriorMonth': 2437191, 'category': None, 'fiveYearAverageReturn': None, 'regularMarketPrice': 1709.71, 'logo_url': 'https://logo.clearbit.com/abc.xyz'}\n"
    }
   ],
   "source": [
    "# get stock info\n",
    "print(yf.Ticker('GOOG').info)"
   ]
  },
  {
   "cell_type": "code",
   "execution_count": 8,
   "metadata": {},
   "outputs": [
    {
     "output_type": "execute_result",
     "data": {
      "text/plain": "<AxesSubplot:xlabel='Date'>"
     },
     "metadata": {},
     "execution_count": 8
    },
    {
     "output_type": "display_data",
     "data": {
      "text/plain": "<Figure size 432x288 with 1 Axes>",
      "image/svg+xml": "<?xml version=\"1.0\" encoding=\"utf-8\" standalone=\"no\"?>\n<!DOCTYPE svg PUBLIC \"-//W3C//DTD SVG 1.1//EN\"\n  \"http://www.w3.org/Graphics/SVG/1.1/DTD/svg11.dtd\">\n<!-- Created with matplotlib (https://matplotlib.org/) -->\n<svg height=\"260.191033pt\" version=\"1.1\" viewBox=\"0 0 381.65 260.191033\" width=\"381.65pt\" xmlns=\"http://www.w3.org/2000/svg\" xmlns:xlink=\"http://www.w3.org/1999/xlink\">\n <metadata>\n  <rdf:RDF xmlns:cc=\"http://creativecommons.org/ns#\" xmlns:dc=\"http://purl.org/dc/elements/1.1/\" xmlns:rdf=\"http://www.w3.org/1999/02/22-rdf-syntax-ns#\">\n   <cc:Work>\n    <dc:type rdf:resource=\"http://purl.org/dc/dcmitype/StillImage\"/>\n    <dc:date>2020-09-04T09:48:36.417799</dc:date>\n    <dc:format>image/svg+xml</dc:format>\n    <dc:creator>\n     <cc:Agent>\n      <dc:title>Matplotlib v3.3.1, https://matplotlib.org/</dc:title>\n     </cc:Agent>\n    </dc:creator>\n   </cc:Work>\n  </rdf:RDF>\n </metadata>\n <defs>\n  <style type=\"text/css\">*{stroke-linecap:butt;stroke-linejoin:round;}</style>\n </defs>\n <g id=\"figure_1\">\n  <g id=\"patch_1\">\n   <path d=\"M -0 260.191033 \nL 381.65 260.191033 \nL 381.65 0 \nL -0 0 \nz\n\" style=\"fill:none;\"/>\n  </g>\n  <g id=\"axes_1\">\n   <g id=\"patch_2\">\n    <path d=\"M 39.65 203.04 \nL 374.45 203.04 \nL 374.45 7.2 \nL 39.65 7.2 \nz\n\" style=\"fill:#ffffff;\"/>\n   </g>\n   <g id=\"matplotlib.axis_1\">\n    <g id=\"xtick_1\">\n     <g id=\"line2d_1\">\n      <defs>\n       <path d=\"M 0 0 \nL 0 3.5 \n\" id=\"mbd94b305f9\" style=\"stroke:#000000;stroke-width:0.8;\"/>\n      </defs>\n      <g>\n       <use style=\"stroke:#000000;stroke-width:0.8;\" x=\"66.125467\" xlink:href=\"#mbd94b305f9\" y=\"203.04\"/>\n      </g>\n     </g>\n     <g id=\"text_1\">\n      <!-- 2018-10 -->\n      <g transform=\"translate(28.900646 237.511846)rotate(-30)scale(0.1 -0.1)\">\n       <defs>\n        <path d=\"M 19.1875 8.296875 \nL 53.609375 8.296875 \nL 53.609375 0 \nL 7.328125 0 \nL 7.328125 8.296875 \nQ 12.9375 14.109375 22.625 23.890625 \nQ 32.328125 33.6875 34.8125 36.53125 \nQ 39.546875 41.84375 41.421875 45.53125 \nQ 43.3125 49.21875 43.3125 52.78125 \nQ 43.3125 58.59375 39.234375 62.25 \nQ 35.15625 65.921875 28.609375 65.921875 \nQ 23.96875 65.921875 18.8125 64.3125 \nQ 13.671875 62.703125 7.8125 59.421875 \nL 7.8125 69.390625 \nQ 13.765625 71.78125 18.9375 73 \nQ 24.125 74.21875 28.421875 74.21875 \nQ 39.75 74.21875 46.484375 68.546875 \nQ 53.21875 62.890625 53.21875 53.421875 \nQ 53.21875 48.921875 51.53125 44.890625 \nQ 49.859375 40.875 45.40625 35.40625 \nQ 44.1875 33.984375 37.640625 27.21875 \nQ 31.109375 20.453125 19.1875 8.296875 \nz\n\" id=\"DejaVuSans-50\"/>\n        <path d=\"M 31.78125 66.40625 \nQ 24.171875 66.40625 20.328125 58.90625 \nQ 16.5 51.421875 16.5 36.375 \nQ 16.5 21.390625 20.328125 13.890625 \nQ 24.171875 6.390625 31.78125 6.390625 \nQ 39.453125 6.390625 43.28125 13.890625 \nQ 47.125 21.390625 47.125 36.375 \nQ 47.125 51.421875 43.28125 58.90625 \nQ 39.453125 66.40625 31.78125 66.40625 \nz\nM 31.78125 74.21875 \nQ 44.046875 74.21875 50.515625 64.515625 \nQ 56.984375 54.828125 56.984375 36.375 \nQ 56.984375 17.96875 50.515625 8.265625 \nQ 44.046875 -1.421875 31.78125 -1.421875 \nQ 19.53125 -1.421875 13.0625 8.265625 \nQ 6.59375 17.96875 6.59375 36.375 \nQ 6.59375 54.828125 13.0625 64.515625 \nQ 19.53125 74.21875 31.78125 74.21875 \nz\n\" id=\"DejaVuSans-48\"/>\n        <path d=\"M 12.40625 8.296875 \nL 28.515625 8.296875 \nL 28.515625 63.921875 \nL 10.984375 60.40625 \nL 10.984375 69.390625 \nL 28.421875 72.90625 \nL 38.28125 72.90625 \nL 38.28125 8.296875 \nL 54.390625 8.296875 \nL 54.390625 0 \nL 12.40625 0 \nz\n\" id=\"DejaVuSans-49\"/>\n        <path d=\"M 31.78125 34.625 \nQ 24.75 34.625 20.71875 30.859375 \nQ 16.703125 27.09375 16.703125 20.515625 \nQ 16.703125 13.921875 20.71875 10.15625 \nQ 24.75 6.390625 31.78125 6.390625 \nQ 38.8125 6.390625 42.859375 10.171875 \nQ 46.921875 13.96875 46.921875 20.515625 \nQ 46.921875 27.09375 42.890625 30.859375 \nQ 38.875 34.625 31.78125 34.625 \nz\nM 21.921875 38.8125 \nQ 15.578125 40.375 12.03125 44.71875 \nQ 8.5 49.078125 8.5 55.328125 \nQ 8.5 64.0625 14.71875 69.140625 \nQ 20.953125 74.21875 31.78125 74.21875 \nQ 42.671875 74.21875 48.875 69.140625 \nQ 55.078125 64.0625 55.078125 55.328125 \nQ 55.078125 49.078125 51.53125 44.71875 \nQ 48 40.375 41.703125 38.8125 \nQ 48.828125 37.15625 52.796875 32.3125 \nQ 56.78125 27.484375 56.78125 20.515625 \nQ 56.78125 9.90625 50.3125 4.234375 \nQ 43.84375 -1.421875 31.78125 -1.421875 \nQ 19.734375 -1.421875 13.25 4.234375 \nQ 6.78125 9.90625 6.78125 20.515625 \nQ 6.78125 27.484375 10.78125 32.3125 \nQ 14.796875 37.15625 21.921875 38.8125 \nz\nM 18.3125 54.390625 \nQ 18.3125 48.734375 21.84375 45.5625 \nQ 25.390625 42.390625 31.78125 42.390625 \nQ 38.140625 42.390625 41.71875 45.5625 \nQ 45.3125 48.734375 45.3125 54.390625 \nQ 45.3125 60.0625 41.71875 63.234375 \nQ 38.140625 66.40625 31.78125 66.40625 \nQ 25.390625 66.40625 21.84375 63.234375 \nQ 18.3125 60.0625 18.3125 54.390625 \nz\n\" id=\"DejaVuSans-56\"/>\n        <path d=\"M 4.890625 31.390625 \nL 31.203125 31.390625 \nL 31.203125 23.390625 \nL 4.890625 23.390625 \nz\n\" id=\"DejaVuSans-45\"/>\n       </defs>\n       <use xlink:href=\"#DejaVuSans-50\"/>\n       <use x=\"63.623047\" xlink:href=\"#DejaVuSans-48\"/>\n       <use x=\"127.246094\" xlink:href=\"#DejaVuSans-49\"/>\n       <use x=\"190.869141\" xlink:href=\"#DejaVuSans-56\"/>\n       <use x=\"254.492188\" xlink:href=\"#DejaVuSans-45\"/>\n       <use x=\"290.576172\" xlink:href=\"#DejaVuSans-49\"/>\n       <use x=\"354.199219\" xlink:href=\"#DejaVuSans-48\"/>\n      </g>\n     </g>\n    </g>\n    <g id=\"xtick_2\">\n     <g id=\"line2d_2\">\n      <g>\n       <use style=\"stroke:#000000;stroke-width:0.8;\" x=\"104.483624\" xlink:href=\"#mbd94b305f9\" y=\"203.04\"/>\n      </g>\n     </g>\n     <g id=\"text_2\">\n      <!-- 2019-01 -->\n      <g transform=\"translate(67.258803 237.511846)rotate(-30)scale(0.1 -0.1)\">\n       <defs>\n        <path d=\"M 10.984375 1.515625 \nL 10.984375 10.5 \nQ 14.703125 8.734375 18.5 7.8125 \nQ 22.3125 6.890625 25.984375 6.890625 \nQ 35.75 6.890625 40.890625 13.453125 \nQ 46.046875 20.015625 46.78125 33.40625 \nQ 43.953125 29.203125 39.59375 26.953125 \nQ 35.25 24.703125 29.984375 24.703125 \nQ 19.046875 24.703125 12.671875 31.3125 \nQ 6.296875 37.9375 6.296875 49.421875 \nQ 6.296875 60.640625 12.9375 67.421875 \nQ 19.578125 74.21875 30.609375 74.21875 \nQ 43.265625 74.21875 49.921875 64.515625 \nQ 56.59375 54.828125 56.59375 36.375 \nQ 56.59375 19.140625 48.40625 8.859375 \nQ 40.234375 -1.421875 26.421875 -1.421875 \nQ 22.703125 -1.421875 18.890625 -0.6875 \nQ 15.09375 0.046875 10.984375 1.515625 \nz\nM 30.609375 32.421875 \nQ 37.25 32.421875 41.125 36.953125 \nQ 45.015625 41.5 45.015625 49.421875 \nQ 45.015625 57.28125 41.125 61.84375 \nQ 37.25 66.40625 30.609375 66.40625 \nQ 23.96875 66.40625 20.09375 61.84375 \nQ 16.21875 57.28125 16.21875 49.421875 \nQ 16.21875 41.5 20.09375 36.953125 \nQ 23.96875 32.421875 30.609375 32.421875 \nz\n\" id=\"DejaVuSans-57\"/>\n       </defs>\n       <use xlink:href=\"#DejaVuSans-50\"/>\n       <use x=\"63.623047\" xlink:href=\"#DejaVuSans-48\"/>\n       <use x=\"127.246094\" xlink:href=\"#DejaVuSans-49\"/>\n       <use x=\"190.869141\" xlink:href=\"#DejaVuSans-57\"/>\n       <use x=\"254.492188\" xlink:href=\"#DejaVuSans-45\"/>\n       <use x=\"290.576172\" xlink:href=\"#DejaVuSans-48\"/>\n       <use x=\"354.199219\" xlink:href=\"#DejaVuSans-49\"/>\n      </g>\n     </g>\n    </g>\n    <g id=\"xtick_3\">\n     <g id=\"line2d_3\">\n      <g>\n       <use style=\"stroke:#000000;stroke-width:0.8;\" x=\"142.007908\" xlink:href=\"#mbd94b305f9\" y=\"203.04\"/>\n      </g>\n     </g>\n     <g id=\"text_3\">\n      <!-- 2019-04 -->\n      <g transform=\"translate(104.783087 237.511846)rotate(-30)scale(0.1 -0.1)\">\n       <defs>\n        <path d=\"M 37.796875 64.3125 \nL 12.890625 25.390625 \nL 37.796875 25.390625 \nz\nM 35.203125 72.90625 \nL 47.609375 72.90625 \nL 47.609375 25.390625 \nL 58.015625 25.390625 \nL 58.015625 17.1875 \nL 47.609375 17.1875 \nL 47.609375 0 \nL 37.796875 0 \nL 37.796875 17.1875 \nL 4.890625 17.1875 \nL 4.890625 26.703125 \nz\n\" id=\"DejaVuSans-52\"/>\n       </defs>\n       <use xlink:href=\"#DejaVuSans-50\"/>\n       <use x=\"63.623047\" xlink:href=\"#DejaVuSans-48\"/>\n       <use x=\"127.246094\" xlink:href=\"#DejaVuSans-49\"/>\n       <use x=\"190.869141\" xlink:href=\"#DejaVuSans-57\"/>\n       <use x=\"254.492188\" xlink:href=\"#DejaVuSans-45\"/>\n       <use x=\"290.576172\" xlink:href=\"#DejaVuSans-48\"/>\n       <use x=\"354.199219\" xlink:href=\"#DejaVuSans-52\"/>\n      </g>\n     </g>\n    </g>\n    <g id=\"xtick_4\">\n     <g id=\"line2d_4\">\n      <g>\n       <use style=\"stroke:#000000;stroke-width:0.8;\" x=\"179.949128\" xlink:href=\"#mbd94b305f9\" y=\"203.04\"/>\n      </g>\n     </g>\n     <g id=\"text_4\">\n      <!-- 2019-07 -->\n      <g transform=\"translate(142.724307 237.511846)rotate(-30)scale(0.1 -0.1)\">\n       <defs>\n        <path d=\"M 8.203125 72.90625 \nL 55.078125 72.90625 \nL 55.078125 68.703125 \nL 28.609375 0 \nL 18.3125 0 \nL 43.21875 64.59375 \nL 8.203125 64.59375 \nz\n\" id=\"DejaVuSans-55\"/>\n       </defs>\n       <use xlink:href=\"#DejaVuSans-50\"/>\n       <use x=\"63.623047\" xlink:href=\"#DejaVuSans-48\"/>\n       <use x=\"127.246094\" xlink:href=\"#DejaVuSans-49\"/>\n       <use x=\"190.869141\" xlink:href=\"#DejaVuSans-57\"/>\n       <use x=\"254.492188\" xlink:href=\"#DejaVuSans-45\"/>\n       <use x=\"290.576172\" xlink:href=\"#DejaVuSans-48\"/>\n       <use x=\"354.199219\" xlink:href=\"#DejaVuSans-55\"/>\n      </g>\n     </g>\n    </g>\n    <g id=\"xtick_5\">\n     <g id=\"line2d_5\">\n      <g>\n       <use style=\"stroke:#000000;stroke-width:0.8;\" x=\"218.307285\" xlink:href=\"#mbd94b305f9\" y=\"203.04\"/>\n      </g>\n     </g>\n     <g id=\"text_5\">\n      <!-- 2019-10 -->\n      <g transform=\"translate(181.082464 237.511846)rotate(-30)scale(0.1 -0.1)\">\n       <use xlink:href=\"#DejaVuSans-50\"/>\n       <use x=\"63.623047\" xlink:href=\"#DejaVuSans-48\"/>\n       <use x=\"127.246094\" xlink:href=\"#DejaVuSans-49\"/>\n       <use x=\"190.869141\" xlink:href=\"#DejaVuSans-57\"/>\n       <use x=\"254.492188\" xlink:href=\"#DejaVuSans-45\"/>\n       <use x=\"290.576172\" xlink:href=\"#DejaVuSans-49\"/>\n       <use x=\"354.199219\" xlink:href=\"#DejaVuSans-48\"/>\n      </g>\n     </g>\n    </g>\n    <g id=\"xtick_6\">\n     <g id=\"line2d_6\">\n      <g>\n       <use style=\"stroke:#000000;stroke-width:0.8;\" x=\"256.665442\" xlink:href=\"#mbd94b305f9\" y=\"203.04\"/>\n      </g>\n     </g>\n     <g id=\"text_6\">\n      <!-- 2020-01 -->\n      <g transform=\"translate(219.440621 237.511846)rotate(-30)scale(0.1 -0.1)\">\n       <use xlink:href=\"#DejaVuSans-50\"/>\n       <use x=\"63.623047\" xlink:href=\"#DejaVuSans-48\"/>\n       <use x=\"127.246094\" xlink:href=\"#DejaVuSans-50\"/>\n       <use x=\"190.869141\" xlink:href=\"#DejaVuSans-48\"/>\n       <use x=\"254.492188\" xlink:href=\"#DejaVuSans-45\"/>\n       <use x=\"290.576172\" xlink:href=\"#DejaVuSans-48\"/>\n       <use x=\"354.199219\" xlink:href=\"#DejaVuSans-49\"/>\n      </g>\n     </g>\n    </g>\n    <g id=\"xtick_7\">\n     <g id=\"line2d_7\">\n      <g>\n       <use style=\"stroke:#000000;stroke-width:0.8;\" x=\"294.606663\" xlink:href=\"#mbd94b305f9\" y=\"203.04\"/>\n      </g>\n     </g>\n     <g id=\"text_7\">\n      <!-- 2020-04 -->\n      <g transform=\"translate(257.381842 237.511846)rotate(-30)scale(0.1 -0.1)\">\n       <use xlink:href=\"#DejaVuSans-50\"/>\n       <use x=\"63.623047\" xlink:href=\"#DejaVuSans-48\"/>\n       <use x=\"127.246094\" xlink:href=\"#DejaVuSans-50\"/>\n       <use x=\"190.869141\" xlink:href=\"#DejaVuSans-48\"/>\n       <use x=\"254.492188\" xlink:href=\"#DejaVuSans-45\"/>\n       <use x=\"290.576172\" xlink:href=\"#DejaVuSans-48\"/>\n       <use x=\"354.199219\" xlink:href=\"#DejaVuSans-52\"/>\n      </g>\n     </g>\n    </g>\n    <g id=\"xtick_8\">\n     <g id=\"line2d_8\">\n      <g>\n       <use style=\"stroke:#000000;stroke-width:0.8;\" x=\"332.547883\" xlink:href=\"#mbd94b305f9\" y=\"203.04\"/>\n      </g>\n     </g>\n     <g id=\"text_8\">\n      <!-- 2020-07 -->\n      <g transform=\"translate(295.323062 237.511846)rotate(-30)scale(0.1 -0.1)\">\n       <use xlink:href=\"#DejaVuSans-50\"/>\n       <use x=\"63.623047\" xlink:href=\"#DejaVuSans-48\"/>\n       <use x=\"127.246094\" xlink:href=\"#DejaVuSans-50\"/>\n       <use x=\"190.869141\" xlink:href=\"#DejaVuSans-48\"/>\n       <use x=\"254.492188\" xlink:href=\"#DejaVuSans-45\"/>\n       <use x=\"290.576172\" xlink:href=\"#DejaVuSans-48\"/>\n       <use x=\"354.199219\" xlink:href=\"#DejaVuSans-55\"/>\n      </g>\n     </g>\n    </g>\n    <g id=\"xtick_9\">\n     <g id=\"line2d_9\">\n      <g>\n       <use style=\"stroke:#000000;stroke-width:0.8;\" x=\"370.90604\" xlink:href=\"#mbd94b305f9\" y=\"203.04\"/>\n      </g>\n     </g>\n     <g id=\"text_9\">\n      <!-- 2020-10 -->\n      <g transform=\"translate(333.681219 237.511846)rotate(-30)scale(0.1 -0.1)\">\n       <use xlink:href=\"#DejaVuSans-50\"/>\n       <use x=\"63.623047\" xlink:href=\"#DejaVuSans-48\"/>\n       <use x=\"127.246094\" xlink:href=\"#DejaVuSans-50\"/>\n       <use x=\"190.869141\" xlink:href=\"#DejaVuSans-48\"/>\n       <use x=\"254.492188\" xlink:href=\"#DejaVuSans-45\"/>\n       <use x=\"290.576172\" xlink:href=\"#DejaVuSans-49\"/>\n       <use x=\"354.199219\" xlink:href=\"#DejaVuSans-48\"/>\n      </g>\n     </g>\n    </g>\n    <g id=\"text_10\">\n     <!-- Date -->\n     <g transform=\"translate(195.099219 250.911346)scale(0.1 -0.1)\">\n      <defs>\n       <path d=\"M 19.671875 64.796875 \nL 19.671875 8.109375 \nL 31.59375 8.109375 \nQ 46.6875 8.109375 53.6875 14.9375 \nQ 60.6875 21.78125 60.6875 36.53125 \nQ 60.6875 51.171875 53.6875 57.984375 \nQ 46.6875 64.796875 31.59375 64.796875 \nz\nM 9.8125 72.90625 \nL 30.078125 72.90625 \nQ 51.265625 72.90625 61.171875 64.09375 \nQ 71.09375 55.28125 71.09375 36.53125 \nQ 71.09375 17.671875 61.125 8.828125 \nQ 51.171875 0 30.078125 0 \nL 9.8125 0 \nz\n\" id=\"DejaVuSans-68\"/>\n       <path d=\"M 34.28125 27.484375 \nQ 23.390625 27.484375 19.1875 25 \nQ 14.984375 22.515625 14.984375 16.5 \nQ 14.984375 11.71875 18.140625 8.90625 \nQ 21.296875 6.109375 26.703125 6.109375 \nQ 34.1875 6.109375 38.703125 11.40625 \nQ 43.21875 16.703125 43.21875 25.484375 \nL 43.21875 27.484375 \nz\nM 52.203125 31.203125 \nL 52.203125 0 \nL 43.21875 0 \nL 43.21875 8.296875 \nQ 40.140625 3.328125 35.546875 0.953125 \nQ 30.953125 -1.421875 24.3125 -1.421875 \nQ 15.921875 -1.421875 10.953125 3.296875 \nQ 6 8.015625 6 15.921875 \nQ 6 25.140625 12.171875 29.828125 \nQ 18.359375 34.515625 30.609375 34.515625 \nL 43.21875 34.515625 \nL 43.21875 35.40625 \nQ 43.21875 41.609375 39.140625 45 \nQ 35.0625 48.390625 27.6875 48.390625 \nQ 23 48.390625 18.546875 47.265625 \nQ 14.109375 46.140625 10.015625 43.890625 \nL 10.015625 52.203125 \nQ 14.9375 54.109375 19.578125 55.046875 \nQ 24.21875 56 28.609375 56 \nQ 40.484375 56 46.34375 49.84375 \nQ 52.203125 43.703125 52.203125 31.203125 \nz\n\" id=\"DejaVuSans-97\"/>\n       <path d=\"M 18.3125 70.21875 \nL 18.3125 54.6875 \nL 36.8125 54.6875 \nL 36.8125 47.703125 \nL 18.3125 47.703125 \nL 18.3125 18.015625 \nQ 18.3125 11.328125 20.140625 9.421875 \nQ 21.96875 7.515625 27.59375 7.515625 \nL 36.8125 7.515625 \nL 36.8125 0 \nL 27.59375 0 \nQ 17.1875 0 13.234375 3.875 \nQ 9.28125 7.765625 9.28125 18.015625 \nL 9.28125 47.703125 \nL 2.6875 47.703125 \nL 2.6875 54.6875 \nL 9.28125 54.6875 \nL 9.28125 70.21875 \nz\n\" id=\"DejaVuSans-116\"/>\n       <path d=\"M 56.203125 29.59375 \nL 56.203125 25.203125 \nL 14.890625 25.203125 \nQ 15.484375 15.921875 20.484375 11.0625 \nQ 25.484375 6.203125 34.421875 6.203125 \nQ 39.59375 6.203125 44.453125 7.46875 \nQ 49.3125 8.734375 54.109375 11.28125 \nL 54.109375 2.78125 \nQ 49.265625 0.734375 44.1875 -0.34375 \nQ 39.109375 -1.421875 33.890625 -1.421875 \nQ 20.796875 -1.421875 13.15625 6.1875 \nQ 5.515625 13.8125 5.515625 26.8125 \nQ 5.515625 40.234375 12.765625 48.109375 \nQ 20.015625 56 32.328125 56 \nQ 43.359375 56 49.78125 48.890625 \nQ 56.203125 41.796875 56.203125 29.59375 \nz\nM 47.21875 32.234375 \nQ 47.125 39.59375 43.09375 43.984375 \nQ 39.0625 48.390625 32.421875 48.390625 \nQ 24.90625 48.390625 20.390625 44.140625 \nQ 15.875 39.890625 15.1875 32.171875 \nz\n\" id=\"DejaVuSans-101\"/>\n      </defs>\n      <use xlink:href=\"#DejaVuSans-68\"/>\n      <use x=\"77.001953\" xlink:href=\"#DejaVuSans-97\"/>\n      <use x=\"138.28125\" xlink:href=\"#DejaVuSans-116\"/>\n      <use x=\"177.490234\" xlink:href=\"#DejaVuSans-101\"/>\n     </g>\n    </g>\n   </g>\n   <g id=\"matplotlib.axis_2\">\n    <g id=\"ytick_1\">\n     <g id=\"line2d_10\">\n      <defs>\n       <path d=\"M 0 0 \nL -3.5 0 \n\" id=\"m3b11503230\" style=\"stroke:#000000;stroke-width:0.8;\"/>\n      </defs>\n      <g>\n       <use style=\"stroke:#000000;stroke-width:0.8;\" x=\"39.65\" xlink:href=\"#m3b11503230\" y=\"188.508704\"/>\n      </g>\n     </g>\n     <g id=\"text_11\">\n      <!-- 1000 -->\n      <g transform=\"translate(7.2 192.307923)scale(0.1 -0.1)\">\n       <use xlink:href=\"#DejaVuSans-49\"/>\n       <use x=\"63.623047\" xlink:href=\"#DejaVuSans-48\"/>\n       <use x=\"127.246094\" xlink:href=\"#DejaVuSans-48\"/>\n       <use x=\"190.869141\" xlink:href=\"#DejaVuSans-48\"/>\n      </g>\n     </g>\n    </g>\n    <g id=\"ytick_2\">\n     <g id=\"line2d_11\">\n      <g>\n       <use style=\"stroke:#000000;stroke-width:0.8;\" x=\"39.65\" xlink:href=\"#m3b11503230\" y=\"164.835545\"/>\n      </g>\n     </g>\n     <g id=\"text_12\">\n      <!-- 1100 -->\n      <g transform=\"translate(7.2 168.634764)scale(0.1 -0.1)\">\n       <use xlink:href=\"#DejaVuSans-49\"/>\n       <use x=\"63.623047\" xlink:href=\"#DejaVuSans-49\"/>\n       <use x=\"127.246094\" xlink:href=\"#DejaVuSans-48\"/>\n       <use x=\"190.869141\" xlink:href=\"#DejaVuSans-48\"/>\n      </g>\n     </g>\n    </g>\n    <g id=\"ytick_3\">\n     <g id=\"line2d_12\">\n      <g>\n       <use style=\"stroke:#000000;stroke-width:0.8;\" x=\"39.65\" xlink:href=\"#m3b11503230\" y=\"141.162385\"/>\n      </g>\n     </g>\n     <g id=\"text_13\">\n      <!-- 1200 -->\n      <g transform=\"translate(7.2 144.961604)scale(0.1 -0.1)\">\n       <use xlink:href=\"#DejaVuSans-49\"/>\n       <use x=\"63.623047\" xlink:href=\"#DejaVuSans-50\"/>\n       <use x=\"127.246094\" xlink:href=\"#DejaVuSans-48\"/>\n       <use x=\"190.869141\" xlink:href=\"#DejaVuSans-48\"/>\n      </g>\n     </g>\n    </g>\n    <g id=\"ytick_4\">\n     <g id=\"line2d_13\">\n      <g>\n       <use style=\"stroke:#000000;stroke-width:0.8;\" x=\"39.65\" xlink:href=\"#m3b11503230\" y=\"117.489226\"/>\n      </g>\n     </g>\n     <g id=\"text_14\">\n      <!-- 1300 -->\n      <g transform=\"translate(7.2 121.288445)scale(0.1 -0.1)\">\n       <defs>\n        <path d=\"M 40.578125 39.3125 \nQ 47.65625 37.796875 51.625 33 \nQ 55.609375 28.21875 55.609375 21.1875 \nQ 55.609375 10.40625 48.1875 4.484375 \nQ 40.765625 -1.421875 27.09375 -1.421875 \nQ 22.515625 -1.421875 17.65625 -0.515625 \nQ 12.796875 0.390625 7.625 2.203125 \nL 7.625 11.71875 \nQ 11.71875 9.328125 16.59375 8.109375 \nQ 21.484375 6.890625 26.8125 6.890625 \nQ 36.078125 6.890625 40.9375 10.546875 \nQ 45.796875 14.203125 45.796875 21.1875 \nQ 45.796875 27.640625 41.28125 31.265625 \nQ 36.765625 34.90625 28.71875 34.90625 \nL 20.21875 34.90625 \nL 20.21875 43.015625 \nL 29.109375 43.015625 \nQ 36.375 43.015625 40.234375 45.921875 \nQ 44.09375 48.828125 44.09375 54.296875 \nQ 44.09375 59.90625 40.109375 62.90625 \nQ 36.140625 65.921875 28.71875 65.921875 \nQ 24.65625 65.921875 20.015625 65.03125 \nQ 15.375 64.15625 9.8125 62.3125 \nL 9.8125 71.09375 \nQ 15.4375 72.65625 20.34375 73.4375 \nQ 25.25 74.21875 29.59375 74.21875 \nQ 40.828125 74.21875 47.359375 69.109375 \nQ 53.90625 64.015625 53.90625 55.328125 \nQ 53.90625 49.265625 50.4375 45.09375 \nQ 46.96875 40.921875 40.578125 39.3125 \nz\n\" id=\"DejaVuSans-51\"/>\n       </defs>\n       <use xlink:href=\"#DejaVuSans-49\"/>\n       <use x=\"63.623047\" xlink:href=\"#DejaVuSans-51\"/>\n       <use x=\"127.246094\" xlink:href=\"#DejaVuSans-48\"/>\n       <use x=\"190.869141\" xlink:href=\"#DejaVuSans-48\"/>\n      </g>\n     </g>\n    </g>\n    <g id=\"ytick_5\">\n     <g id=\"line2d_14\">\n      <g>\n       <use style=\"stroke:#000000;stroke-width:0.8;\" x=\"39.65\" xlink:href=\"#m3b11503230\" y=\"93.816066\"/>\n      </g>\n     </g>\n     <g id=\"text_15\">\n      <!-- 1400 -->\n      <g transform=\"translate(7.2 97.615285)scale(0.1 -0.1)\">\n       <use xlink:href=\"#DejaVuSans-49\"/>\n       <use x=\"63.623047\" xlink:href=\"#DejaVuSans-52\"/>\n       <use x=\"127.246094\" xlink:href=\"#DejaVuSans-48\"/>\n       <use x=\"190.869141\" xlink:href=\"#DejaVuSans-48\"/>\n      </g>\n     </g>\n    </g>\n    <g id=\"ytick_6\">\n     <g id=\"line2d_15\">\n      <g>\n       <use style=\"stroke:#000000;stroke-width:0.8;\" x=\"39.65\" xlink:href=\"#m3b11503230\" y=\"70.142907\"/>\n      </g>\n     </g>\n     <g id=\"text_16\">\n      <!-- 1500 -->\n      <g transform=\"translate(7.2 73.942126)scale(0.1 -0.1)\">\n       <defs>\n        <path d=\"M 10.796875 72.90625 \nL 49.515625 72.90625 \nL 49.515625 64.59375 \nL 19.828125 64.59375 \nL 19.828125 46.734375 \nQ 21.96875 47.46875 24.109375 47.828125 \nQ 26.265625 48.1875 28.421875 48.1875 \nQ 40.625 48.1875 47.75 41.5 \nQ 54.890625 34.8125 54.890625 23.390625 \nQ 54.890625 11.625 47.5625 5.09375 \nQ 40.234375 -1.421875 26.90625 -1.421875 \nQ 22.3125 -1.421875 17.546875 -0.640625 \nQ 12.796875 0.140625 7.71875 1.703125 \nL 7.71875 11.625 \nQ 12.109375 9.234375 16.796875 8.0625 \nQ 21.484375 6.890625 26.703125 6.890625 \nQ 35.15625 6.890625 40.078125 11.328125 \nQ 45.015625 15.765625 45.015625 23.390625 \nQ 45.015625 31 40.078125 35.4375 \nQ 35.15625 39.890625 26.703125 39.890625 \nQ 22.75 39.890625 18.8125 39.015625 \nQ 14.890625 38.140625 10.796875 36.28125 \nz\n\" id=\"DejaVuSans-53\"/>\n       </defs>\n       <use xlink:href=\"#DejaVuSans-49\"/>\n       <use x=\"63.623047\" xlink:href=\"#DejaVuSans-53\"/>\n       <use x=\"127.246094\" xlink:href=\"#DejaVuSans-48\"/>\n       <use x=\"190.869141\" xlink:href=\"#DejaVuSans-48\"/>\n      </g>\n     </g>\n    </g>\n    <g id=\"ytick_7\">\n     <g id=\"line2d_16\">\n      <g>\n       <use style=\"stroke:#000000;stroke-width:0.8;\" x=\"39.65\" xlink:href=\"#m3b11503230\" y=\"46.469747\"/>\n      </g>\n     </g>\n     <g id=\"text_17\">\n      <!-- 1600 -->\n      <g transform=\"translate(7.2 50.268966)scale(0.1 -0.1)\">\n       <defs>\n        <path d=\"M 33.015625 40.375 \nQ 26.375 40.375 22.484375 35.828125 \nQ 18.609375 31.296875 18.609375 23.390625 \nQ 18.609375 15.53125 22.484375 10.953125 \nQ 26.375 6.390625 33.015625 6.390625 \nQ 39.65625 6.390625 43.53125 10.953125 \nQ 47.40625 15.53125 47.40625 23.390625 \nQ 47.40625 31.296875 43.53125 35.828125 \nQ 39.65625 40.375 33.015625 40.375 \nz\nM 52.59375 71.296875 \nL 52.59375 62.3125 \nQ 48.875 64.0625 45.09375 64.984375 \nQ 41.3125 65.921875 37.59375 65.921875 \nQ 27.828125 65.921875 22.671875 59.328125 \nQ 17.53125 52.734375 16.796875 39.40625 \nQ 19.671875 43.65625 24.015625 45.921875 \nQ 28.375 48.1875 33.59375 48.1875 \nQ 44.578125 48.1875 50.953125 41.515625 \nQ 57.328125 34.859375 57.328125 23.390625 \nQ 57.328125 12.15625 50.6875 5.359375 \nQ 44.046875 -1.421875 33.015625 -1.421875 \nQ 20.359375 -1.421875 13.671875 8.265625 \nQ 6.984375 17.96875 6.984375 36.375 \nQ 6.984375 53.65625 15.1875 63.9375 \nQ 23.390625 74.21875 37.203125 74.21875 \nQ 40.921875 74.21875 44.703125 73.484375 \nQ 48.484375 72.75 52.59375 71.296875 \nz\n\" id=\"DejaVuSans-54\"/>\n       </defs>\n       <use xlink:href=\"#DejaVuSans-49\"/>\n       <use x=\"63.623047\" xlink:href=\"#DejaVuSans-54\"/>\n       <use x=\"127.246094\" xlink:href=\"#DejaVuSans-48\"/>\n       <use x=\"190.869141\" xlink:href=\"#DejaVuSans-48\"/>\n      </g>\n     </g>\n    </g>\n    <g id=\"ytick_8\">\n     <g id=\"line2d_17\">\n      <g>\n       <use style=\"stroke:#000000;stroke-width:0.8;\" x=\"39.65\" xlink:href=\"#m3b11503230\" y=\"22.796588\"/>\n      </g>\n     </g>\n     <g id=\"text_18\">\n      <!-- 1700 -->\n      <g transform=\"translate(7.2 26.595806)scale(0.1 -0.1)\">\n       <use xlink:href=\"#DejaVuSans-49\"/>\n       <use x=\"63.623047\" xlink:href=\"#DejaVuSans-55\"/>\n       <use x=\"127.246094\" xlink:href=\"#DejaVuSans-48\"/>\n       <use x=\"190.869141\" xlink:href=\"#DejaVuSans-48\"/>\n      </g>\n     </g>\n    </g>\n   </g>\n   <g id=\"line2d_18\">\n    <path clip-path=\"url(#p8181debee0)\" d=\"M 54.868182 141.87258 \nL 55.285118 144.362997 \nL 55.702055 147.92344 \nL 56.118991 149.488236 \nL 57.369801 149.533215 \nL 57.786737 146.521989 \nL 58.203674 149.964066 \nL 58.62061 147.002554 \nL 59.037547 147.665402 \nL 60.288356 151.566739 \nL 60.705293 150.342837 \nL 61.122229 148.006296 \nL 61.539166 144.270671 \nL 61.956102 149.189954 \nL 63.206912 147.466548 \nL 63.623848 144.796215 \nL 64.040785 145.781019 \nL 64.457721 142.431267 \nL 64.874658 142.708243 \nL 66.125467 142.272657 \nL 66.542403 141.136345 \nL 66.95934 140.464027 \nL 67.376276 148.692817 \nL 67.793213 151.258988 \nL 69.044022 153.242799 \nL 69.460959 155.645624 \nL 69.877895 169.281364 \nL 70.294832 169.731154 \nL 70.711768 162.44929 \nL 71.962578 166.670215 \nL 72.379514 159.797897 \nL 72.796451 161.121226 \nL 73.213387 167.683426 \nL 73.630324 165.673575 \nL 74.881133 164.560936 \nL 75.29807 163.962005 \nL 75.715006 176.504045 \nL 76.131943 165.884266 \nL 76.548879 171.589497 \nL 77.799689 183.755134 \nL 78.216625 179.936653 \nL 78.633562 170.33482 \nL 79.050498 171.937493 \nL 79.467435 174.827986 \nL 80.718244 179.018135 \nL 81.135181 175.296714 \nL 81.552117 166.400341 \nL 81.969054 169.002021 \nL 82.38599 172.848909 \nL 83.6368 179.363763 \nL 84.053736 179.97453 \nL 84.470672 178.173003 \nL 84.887609 173.189803 \nL 85.304545 173.952079 \nL 86.555355 183.774073 \nL 86.972291 182.410499 \nL 87.389228 179.605229 \nL 88.223101 182.855554 \nL 89.47391 176.998814 \nL 89.890847 177.995454 \nL 90.307783 168.095339 \nL 90.72472 167.605305 \nL 91.141656 166.15414 \nL 92.392466 163.313361 \nL 92.809402 176.478005 \nL 93.643275 172.238142 \nL 94.060212 179.849063 \nL 95.311021 179.14597 \nL 96.144894 173.433636 \nL 96.561831 173.855019 \nL 96.978767 178.542304 \nL 98.229577 184.595531 \nL 98.646513 181.71214 \nL 99.06345 183.06151 \nL 99.480386 186.28106 \nL 99.897323 193.352233 \nL 101.148132 194.138182 \nL 101.982005 179.167276 \nL 102.398941 178.120922 \nL 102.815878 179.730697 \nL 104.066687 180.078692 \nL 104.90056 177.654561 \nL 105.317497 184.706795 \nL 105.734433 171.769413 \nL 106.985243 172.318631 \nL 107.402179 170.450818 \nL 107.819116 170.834324 \nL 108.236052 171.859371 \nL 108.652989 174.970025 \nL 109.903798 177.929169 \nL 110.320735 170.244862 \nL 110.737671 169.340547 \nL 111.571544 165.247458 \nL 113.23929 171.814392 \nL 113.656227 170.618898 \nL 114.073163 171.01424 \nL 114.4901 166.968497 \nL 115.740909 171.918554 \nL 116.157846 174.158035 \nL 116.991719 160.960249 \nL 117.408655 162.29068 \nL 118.659465 157.070749 \nL 119.076401 153.948259 \nL 119.493337 161.230123 \nL 119.910274 165.140929 \nL 120.32721 166.004999 \nL 121.57802 166.016836 \nL 121.994956 159.776591 \nL 122.411893 160.063036 \nL 122.828829 159.705571 \nL 123.245766 161.604159 \nL 124.913512 160.441807 \nL 125.330448 161.568649 \nL 125.747385 165.552842 \nL 126.164321 162.380638 \nL 127.415131 162.610268 \nL 127.832067 161.253796 \nL 128.249004 161.036003 \nL 128.66594 160.119852 \nL 129.082877 155.131917 \nL 130.333686 153.519775 \nL 130.750623 150.151084 \nL 131.167559 151.138255 \nL 131.584496 154.585067 \nL 132.001432 154.817064 \nL 133.252242 146.900759 \nL 133.669178 142.77216 \nL 134.086115 142.743752 \nL 134.503051 144.583157 \nL 134.919988 144.841194 \nL 136.170797 144.888541 \nL 136.587733 141.434627 \nL 137.00467 135.487929 \nL 137.421606 133.695871 \nL 137.838543 139.860362 \nL 139.089352 142.819507 \nL 139.506289 144.803317 \nL 139.923225 147.549404 \nL 140.340162 148.621798 \nL 140.757098 147.480752 \nL 142.424844 141.046387 \nL 142.841781 139.760934 \nL 143.258717 137.611411 \nL 143.675654 139.469754 \nL 144.926463 140.253336 \nL 145.3434 141.813397 \nL 145.760336 140.651045 \nL 146.177273 140.068685 \nL 146.594209 136.931992 \nL 147.845019 136.167349 \nL 148.261955 134.739857 \nL 148.678892 132.559559 \nL 149.095828 132.552457 \nL 150.763574 129.600414 \nL 151.180511 125.881361 \nL 151.597447 127.905416 \nL 152.43132 124.075099 \nL 153.68213 120.429432 \nL 154.099066 143.889533 \nL 154.516002 148.718858 \nL 154.932939 150.01378 \nL 155.349875 144.618667 \nL 156.600685 143.674108 \nL 157.017621 147.293734 \nL 157.434558 149.147342 \nL 157.851494 150.068228 \nL 158.268431 149.620805 \nL 159.936177 159.996751 \nL 160.353113 149.635009 \nL 160.77005 146.138484 \nL 161.186986 150.087167 \nL 162.437796 155.638522 \nL 162.854732 153.086556 \nL 163.271669 152.662806 \nL 163.688605 155.183998 \nL 164.105542 156.912138 \nL 165.773288 156.751161 \nL 166.190224 160.938943 \nL 166.607161 160.586213 \nL 167.024097 163.976209 \nL 168.274907 179.931919 \nL 168.691843 175.950093 \nL 169.10878 178.513897 \nL 169.525716 178.012026 \nL 169.942653 172.87495 \nL 171.193462 169.480219 \nL 172.027335 170.27327 \nL 172.444271 167.494041 \nL 172.861208 168.303663 \nL 174.112017 166.611032 \nL 174.528954 163.983311 \nL 174.94589 164.28396 \nL 175.779763 159.655858 \nL 177.030573 161.161471 \nL 177.447509 168.066931 \nL 177.864446 169.617523 \nL 178.281382 170.514736 \nL 178.698319 169.354751 \nL 179.949128 165.320845 \nL 180.783001 159.726877 \nL 181.616874 157.357194 \nL 182.867684 160.964983 \nL 183.28462 158.957499 \nL 183.701557 155.25265 \nL 184.118493 154.369641 \nL 184.53543 154.206296 \nL 185.786239 152.918476 \nL 186.203176 152.151466 \nL 186.620112 153.863035 \nL 187.037049 153.86777 \nL 187.453985 157.709924 \nL 188.704795 155.823173 \nL 189.121731 153.896178 \nL 189.538667 155.884723 \nL 189.955604 157.231726 \nL 190.37254 129.228746 \nL 191.62335 131.832793 \nL 192.040286 135.210953 \nL 192.874159 139.029434 \nL 194.541905 152.449748 \nL 194.958842 148.27617 \nL 195.375778 147.319774 \nL 195.792715 140.026074 \nL 196.209651 144.000797 \nL 197.460461 147.149327 \nL 197.877397 141.808663 \nL 198.294334 149.616071 \nL 198.71127 148.912978 \nL 199.128207 146.465173 \nL 200.379016 141.529319 \nL 200.795953 145.260209 \nL 201.212889 143.233787 \nL 201.629826 143.640965 \nL 202.046762 152.693581 \nL 203.297572 148.527105 \nL 203.714508 148.775674 \nL 204.131445 148.022867 \nL 204.548381 142.855016 \nL 206.633064 148.645471 \nL 207.05 145.563226 \nL 207.466936 138.46838 \nL 207.883873 139.995299 \nL 209.134682 140.118399 \nL 209.551619 139.741996 \nL 210.385492 133.054328 \nL 210.802428 131.797283 \nL 212.470174 134.261659 \nL 212.887111 133.489914 \nL 213.304047 131.998505 \nL 213.720984 134.077009 \nL 214.971793 133.106409 \nL 215.38873 136.721301 \nL 215.805666 130.149632 \nL 216.222603 131.364065 \nL 216.639539 135.22279 \nL 217.890349 136.664485 \nL 218.307285 139.955054 \nL 218.724222 146.694803 \nL 219.141158 144.043409 \nL 219.558095 139.031801 \nL 220.808904 139.344287 \nL 221.225841 143.735658 \nL 221.642777 140.615535 \nL 222.47665 137.504882 \nL 223.72746 137.104806 \nL 224.144396 130.980559 \nL 224.561333 130.831419 \nL 224.978269 128.59904 \nL 225.395205 130.393465 \nL 226.646015 130.237222 \nL 227.062951 131.030273 \nL 227.479888 127.164446 \nL 227.896824 126.724125 \nL 228.313761 125.744057 \nL 229.56457 119.856542 \nL 229.981507 126.338253 \nL 230.81538 126.932449 \nL 231.232316 123.705798 \nL 232.483126 119.53222 \nL 232.900062 119.375977 \nL 233.316999 119.430425 \nL 233.733935 115.391784 \nL 234.150872 114.797588 \nL 235.401681 117.680978 \nL 236.235554 117.962689 \nL 236.652491 114.776282 \nL 237.069427 109.234395 \nL 238.737173 113.829355 \nL 239.15411 116.767194 \nL 239.571046 117.169638 \nL 239.987983 118.592395 \nL 241.238792 115.905491 \nL 241.655729 114.281513 \nL 242.072665 114.414082 \nL 242.906538 116.315037 \nL 244.157347 119.87548 \nL 244.574284 118.606599 \nL 244.99122 112.626759 \nL 245.408157 110.829966 \nL 245.825093 107.873188 \nL 247.909776 106.831569 \nL 248.326712 105.588729 \nL 248.743649 106.166354 \nL 249.994458 103.008354 \nL 250.411395 104.44058 \nL 250.828331 105.032409 \nL 251.245268 104.222787 \nL 251.662204 105.749706 \nL 252.913014 105.927255 \nL 253.32995 107.177198 \nL 254.163823 103.190637 \nL 254.58076 105.205223 \nL 255.831569 108.933746 \nL 256.248506 108.725422 \nL 257.082379 101.540618 \nL 257.499315 103.129087 \nL 258.750125 95.186742 \nL 259.167061 95.392699 \nL 259.583998 92.793386 \nL 260.000934 89.121679 \nL 260.41787 86.778036 \nL 261.66868 84.529086 \nL 262.085616 86.505795 \nL 262.502553 84.536188 \nL 262.919489 81.577043 \nL 263.336426 74.785213 \nL 265.004172 73.83592 \nL 265.421108 73.468986 \nL 265.838045 73.303274 \nL 266.254981 78.023702 \nL 267.505791 85.790865 \nL 267.922727 81.373454 \nL 268.339664 79.936493 \nL 268.7566 80.596974 \nL 269.173537 85.712744 \nL 270.424346 73.471353 \nL 270.841283 82.67311 \nL 271.258219 82.398501 \nL 271.675156 75.770017 \nL 272.092092 75.059822 \nL 273.342902 68.088077 \nL 273.759838 68.062036 \nL 274.176775 65.817821 \nL 274.593711 66.672422 \nL 275.010648 65.233093 \nL 276.678394 65.486396 \nL 277.09533 63.82454 \nL 277.512267 65.846228 \nL 277.929203 73.66784 \nL 279.180012 88.705031 \nL 279.596949 96.550316 \nL 280.013885 95.430576 \nL 280.430822 113.206751 \nL 280.847758 108.178572 \nL 282.098568 96.394073 \nL 282.515504 107.690905 \nL 282.932441 97.007208 \nL 283.349377 112.981856 \nL 283.766314 117.865629 \nL 285.017123 137.478842 \nL 285.43406 122.131532 \nL 285.850996 137.514352 \nL 286.267933 161.305877 \nL 286.684869 136.491671 \nL 287.935679 168.545129 \nL 288.352615 160.148259 \nL 288.769552 165.593086 \nL 289.186488 161.215919 \nL 289.603425 171.388276 \nL 290.854234 175.104962 \nL 291.271171 156.677774 \nL 291.688107 164.246083 \nL 292.105044 150.217369 \nL 292.52198 162.30015 \nL 293.77279 153.751772 \nL 294.189726 149.966433 \nL 294.606663 163.505113 \nL 295.023599 159.902058 \nL 295.440535 165.337416 \nL 296.691345 144.258835 \nL 297.108281 144.355895 \nL 297.525218 138.728785 \nL 297.942154 138.451809 \nL 299.6099 137.005379 \nL 300.026837 124.773457 \nL 300.443773 126.373763 \nL 300.86071 126.137031 \nL 301.277646 121.45448 \nL 302.528456 125.393694 \nL 302.945392 137.294191 \nL 303.362329 126.198581 \nL 303.779265 123.097397 \nL 304.196202 122.387203 \nL 305.447011 123.199192 \nL 305.863948 133.191633 \nL 306.280884 107.669599 \nL 306.697821 105.969866 \nL 307.114757 112.610188 \nL 308.365567 111.144819 \nL 308.782503 105.389874 \nL 309.19944 106.291821 \nL 309.616376 100.311981 \nL 310.033313 96.569255 \nL 311.284122 93.044321 \nL 312.117995 105.811256 \nL 312.534932 104.201481 \nL 312.951868 100.16284 \nL 314.202677 97.617976 \nL 314.619614 100.094188 \nL 315.03655 92.22523 \nL 315.453487 93.153218 \nL 315.870423 91.349323 \nL 317.538169 89.786895 \nL 317.955106 89.592775 \nL 318.372042 89.855547 \nL 318.788979 86.969789 \nL 320.039788 86.283267 \nL 320.456725 84.531453 \nL 320.873661 85.203771 \nL 321.290598 90.932675 \nL 321.707534 84.72794 \nL 322.958344 82.782007 \nL 323.792217 78.227291 \nL 324.209153 92.907017 \nL 324.62609 90.695944 \nL 325.876899 89.116944 \nL 326.293836 83.702893 \nL 326.710772 81.714347 \nL 327.127709 85.303198 \nL 327.544645 86.30694 \nL 328.795455 81.539166 \nL 329.212391 78.568184 \nL 329.629328 86.247757 \nL 330.046264 84.031949 \nL 330.4632 103.309003 \nL 331.71401 95.006826 \nL 332.130946 90.594149 \nL 332.964819 78.499532 \nL 334.632565 71.160853 \nL 335.049502 73.651269 \nL 335.466438 71.089833 \nL 335.883375 67.541227 \nL 336.300311 60.26173 \nL 337.551121 67.45837 \nL 337.968057 65.270971 \nL 338.384994 66.913888 \nL 338.80193 65.881738 \nL 339.218867 66.46173 \nL 340.469676 54.584906 \nL 340.886613 56.313047 \nL 341.303549 53.92916 \nL 341.720486 66.430955 \nL 342.137422 67.332903 \nL 343.388232 62.993613 \nL 343.805168 70.062418 \nL 344.222105 64.930077 \nL 344.639041 62.697698 \nL 345.055978 74.176813 \nL 346.306787 76.191399 \nL 346.723724 78.435615 \nL 347.14066 76.390254 \nL 347.557597 70.119234 \nL 347.974533 71.447298 \nL 349.225342 71.06616 \nL 349.642279 74.801785 \nL 350.059215 68.575744 \nL 350.476152 65.775209 \nL 350.893088 68.312972 \nL 352.143898 65.886473 \nL 352.560834 56.270435 \nL 352.977771 58.891054 \nL 353.394707 50.790099 \nL 353.811644 51.104952 \nL 355.062453 49.26318 \nL 355.47939 44.523814 \nL 355.896326 34.069746 \nL 356.313263 38.342752 \nL 356.730199 35.956497 \nL 357.981009 38.378261 \nL 358.397945 32.097772 \nL 358.814882 16.101818 \nL 359.231818 36.564897 \nL 359.231818 36.564897 \n\" style=\"fill:none;stroke:#1f77b4;stroke-linecap:square;stroke-width:1.5;\"/>\n   </g>\n   <g id=\"patch_3\">\n    <path d=\"M 39.65 203.04 \nL 39.65 7.2 \n\" style=\"fill:none;stroke:#000000;stroke-linecap:square;stroke-linejoin:miter;stroke-width:0.8;\"/>\n   </g>\n   <g id=\"patch_4\">\n    <path d=\"M 374.45 203.04 \nL 374.45 7.2 \n\" style=\"fill:none;stroke:#000000;stroke-linecap:square;stroke-linejoin:miter;stroke-width:0.8;\"/>\n   </g>\n   <g id=\"patch_5\">\n    <path d=\"M 39.65 203.04 \nL 374.45 203.04 \n\" style=\"fill:none;stroke:#000000;stroke-linecap:square;stroke-linejoin:miter;stroke-width:0.8;\"/>\n   </g>\n   <g id=\"patch_6\">\n    <path d=\"M 39.65 7.2 \nL 374.45 7.2 \n\" style=\"fill:none;stroke:#000000;stroke-linecap:square;stroke-linejoin:miter;stroke-width:0.8;\"/>\n   </g>\n  </g>\n </g>\n <defs>\n  <clipPath id=\"p8181debee0\">\n   <rect height=\"195.84\" width=\"334.8\" x=\"39.65\" y=\"7.2\"/>\n  </clipPath>\n </defs>\n</svg>\n",
      "image/png": "[encoded data removed]"
     },
     "metadata": {
      "needs_background": "light"
     }
    }
   ],
   "source": [
    "hist.Close.plot()"
   ]
  },
  {
   "cell_type": "code",
   "execution_count": 9,
   "metadata": {},
   "outputs": [
    {
     "output_type": "execute_result",
     "data": {
      "text/plain": "{'previousClose': 3580.84,\n 'regularMarketOpen': 3564.74,\n 'twoHundredDayAverage': 3030.5415,\n 'trailingAnnualDividendYield': None,\n 'payoutRatio': None,\n 'volume24Hr': None,\n 'regularMarketDayHigh': 3564.85,\n 'navPrice': None,\n 'averageDailyVolume10Day': 4096046250,\n 'totalAssets': None,\n 'regularMarketPreviousClose': 3580.84,\n 'fiftyDayAverage': 3352.7456,\n 'trailingAnnualDividendRate': None,\n 'open': 3564.74,\n 'toCurrency': None,\n 'averageVolume10days': 4096046250,\n 'expireDate': None,\n 'yield': None,\n 'algorithm': None,\n 'dividendRate': None,\n 'exDividendDate': None,\n 'beta': None,\n 'circulatingSupply': None,\n 'startDate': None,\n 'regularMarketDayLow': 3427.41,\n 'priceHint': 2,\n 'currency': 'USD',\n 'regularMarketVolume': 3193601820,\n 'lastMarket': None,\n 'maxSupply': None,\n 'openInterest': None,\n 'marketCap': None,\n 'volumeAllCurrencies': None,\n 'strikePrice': None,\n 'averageVolume': 4770155384,\n 'priceToSalesTrailing12Months': None,\n 'dayLow': 3427.41,\n 'ask': 3504.81,\n 'ytdReturn': None,\n 'askSize': 0,\n 'volume': 3193601820,\n 'fiftyTwoWeekHigh': 3588.11,\n 'forwardPE': None,\n 'maxAge': 1,\n 'fromCurrency': None,\n 'fiveYearAvgDividendYield': None,\n 'fiftyTwoWeekLow': 2191.86,\n 'bid': 3411.59,\n 'tradeable': False,\n 'dividendYield': None,\n 'bidSize': 0,\n 'dayHigh': 3564.85,\n 'exchange': 'SNP',\n 'shortName': 'S&P 500',\n 'exchangeTimezoneName': 'America/New_York',\n 'exchangeTimezoneShortName': 'EDT',\n 'isEsgPopulated': False,\n 'gmtOffSetMilliseconds': '-14400000',\n 'quoteType': 'INDEX',\n 'symbol': '^GSPC',\n 'messageBoardId': 'finmb_INDEXGSPC',\n 'market': 'us_market',\n 'regularMarketPrice': 3564.74,\n 'logo_url': ''}"
     },
     "metadata": {},
     "execution_count": 9
    }
   ],
   "source": [
    "sp = yf.Ticker('^GSPC')\n",
    "sp.info"
   ]
  },
  {
   "cell_type": "code",
   "execution_count": 31,
   "metadata": {},
   "outputs": [],
   "source": [
    "with open('sp500_sectors.csv', newline='') as f:\n",
    "    reader = csv.reader(f)\n",
    "    sp500_s = dict(reader)"
   ]
  },
  {
   "cell_type": "code",
   "execution_count": 33,
   "metadata": {},
   "outputs": [],
   "source": [
    "sectors = [\n",
    " 'Basic Materials',\n",
    " 'Communication Services',\n",
    " 'Consumer Cyclical',\n",
    " 'Consumer Defensive',\n",
    " 'Energy',\n",
    " 'Financial Services',\n",
    " 'Healthcare',\n",
    " 'Industrials',\n",
    " 'Real Estate',\n",
    " 'Technology',\n",
    " 'Utilities',\n",
    " 'No Information'\n",
    "]"
   ]
  },
  {
   "cell_type": "code",
   "execution_count": 39,
   "metadata": {},
   "outputs": [],
   "source": [
    "clean_sp500 = {\n",
    " 'Basic Materials': [],\n",
    " 'Communication Services': [],\n",
    " 'Consumer Cyclical': [],\n",
    " 'Consumer Defensive': [],\n",
    " 'Energy': [],\n",
    " 'Financial Services': [],\n",
    " 'Healthcare': [],\n",
    " 'Industrials': [],\n",
    " 'Real Estate': [],\n",
    " 'Technology': [],\n",
    " 'Utilities': [],\n",
    " 'No Information': []\n",
    "}\n",
    "\n",
    "for sector, value in clean_sp500.items():\n",
    "    for key, item in sp500_s.items():\n",
    "        if sector == item:\n",
    "            clean_sp500[sector] += [key]"
   ]
  },
  {
   "cell_type": "code",
   "execution_count": 40,
   "metadata": {},
   "outputs": [
    {
     "output_type": "execute_result",
     "data": {
      "text/plain": "{'Basic Materials': ['ALB',\n  'APD',\n  'CE',\n  'CF',\n  'CTVA',\n  'DOW',\n  'ECL',\n  'EMN',\n  'IFF',\n  'LIN',\n  'LYB',\n  'MLM',\n  'MOS',\n  'NEM',\n  'NUE',\n  'SHW',\n  'VMC'],\n 'Communication Services': ['ATVI',\n  'CHTR',\n  'DIS',\n  'DISCA',\n  'DISCK',\n  'DISH',\n  'EA',\n  'FB',\n  'FOX',\n  'FOXA',\n  'GOOG',\n  'IPG',\n  'NWS',\n  'NWSA',\n  'T',\n  'TMUS',\n  'TTWO',\n  'TWTR'],\n 'Consumer Cyclical': ['AAP',\n  'AMCR',\n  'AMZN',\n  'AZO',\n  'BBY',\n  'BKNG',\n  'BLL',\n  'BWA',\n  'CMG',\n  'DHI',\n  'DPZ',\n  'DRI',\n  'EBAY',\n  'FBHS',\n  'GM',\n  'GPC',\n  'HAS',\n  'HBI',\n  'HRB',\n  'IP',\n  'KMX',\n  'KSS',\n  'LB',\n  'LEG',\n  'LEN',\n  'LOW',\n  'LVS',\n  'MAR',\n  'MCD',\n  'MGM',\n  'MHK',\n  'NCLH',\n  'NKE',\n  'ORLY',\n  'PKG',\n  'PVH',\n  'RCL',\n  'ROL',\n  'ROST',\n  'SBUX',\n  'TIF',\n  'TJX',\n  'TSCO',\n  'UA',\n  'UAA',\n  'ULTA',\n  'VFC',\n  'WHR',\n  'WRK'],\n 'Consumer Defensive': ['ADM',\n  'CAG',\n  'CHD',\n  'CL',\n  'CLX',\n  'COST',\n  'COTY',\n  'CPB',\n  'DLTR',\n  'EL',\n  'GIS',\n  'HRL',\n  'HSY',\n  'K',\n  'KHC',\n  'KMB',\n  'KO',\n  'LW',\n  'MKC',\n  'MO',\n  'PEP',\n  'PM',\n  'SYY',\n  'TSN',\n  'WMT'],\n 'Energy': ['APA',\n  'BKR',\n  'COG',\n  'COP',\n  'CXO',\n  'EOG',\n  'FANG',\n  'FTI',\n  'HAL',\n  'KMI',\n  'MPC',\n  'MRO',\n  'NOV',\n  'OXY',\n  'PSX',\n  'SLB'],\n 'Financial Services': ['AFL',\n  'AIZ',\n  'AJG',\n  'ALL',\n  'AMP',\n  'AON',\n  'AXP',\n  'BAC',\n  'BEN',\n  'BLK',\n  'CBOE',\n  'CFG',\n  'CINF',\n  'CME',\n  'COF',\n  'DFS',\n  'FITB',\n  'FRC',\n  'GL',\n  'GS',\n  'HBAN',\n  'HIG',\n  'ICE',\n  'IVZ',\n  'KEY',\n  'L',\n  'LNC',\n  'MA',\n  'MET',\n  'MKTX',\n  'MSCI',\n  'NDAQ',\n  'NTRS',\n  'PBCT',\n  'PFG',\n  'PGR',\n  'PNC',\n  'PRU',\n  'PYPL',\n  'RF',\n  'SCHW',\n  'TROW',\n  'UNM',\n  'V',\n  'ZION'],\n 'Healthcare': ['A',\n  'ABBV',\n  'ABMD',\n  'ABT',\n  'ALXN',\n  'AMGN',\n  'BAX',\n  'BDX',\n  'BIIB',\n  'BIO',\n  'BSX',\n  'CERN',\n  'CI',\n  'DVA',\n  'DXCM',\n  'EW',\n  'GILD',\n  'HCA',\n  'HOLX',\n  'HSIC',\n  'HUM',\n  'IDXX',\n  'ILMN',\n  'INCY',\n  'IQV',\n  'JNJ',\n  'LLY',\n  'MDT',\n  'MTD',\n  'MYL',\n  'PFE',\n  'PRGO',\n  'REGN',\n  'RMD',\n  'SYK',\n  'TFX',\n  'TMO',\n  'UHS',\n  'VRTX',\n  'WAT',\n  'WBA',\n  'ZBH',\n  'ZTS'],\n 'Industrials': ['AAL',\n  'ADP',\n  'ALK',\n  'ALLE',\n  'AME',\n  'AOS',\n  'AVY',\n  'BA',\n  'CARR',\n  'CAT',\n  'CMI',\n  'CPRT',\n  'CSX',\n  'CTAS',\n  'DAL',\n  'DE',\n  'DOV',\n  'EFX',\n  'EMR',\n  'FAST',\n  'GE',\n  'GPN',\n  'GWW',\n  'IEX',\n  'INFO',\n  'ITW',\n  'J',\n  'JBHT',\n  'JCI',\n  'LMT',\n  'LUV',\n  'MAS',\n  'NLSN',\n  'NSC',\n  'ODFL',\n  'OTIS',\n  'PAYX',\n  'PCAR',\n  'PH',\n  'PWR',\n  'ROK',\n  'ROP',\n  'SNA',\n  'SWK',\n  'UNP',\n  'UPS',\n  'URI',\n  'VRSK',\n  'WAB',\n  'XYL'],\n 'Real Estate': ['AMT',\n  'ARE',\n  'BXP',\n  'CCI',\n  'EQR',\n  'ESS',\n  'EXR',\n  'FRT',\n  'IRM',\n  'KIM',\n  'O',\n  'PLD',\n  'PSA',\n  'REG',\n  'SLG',\n  'WY'],\n 'Technology': ['AAPL',\n  'ADBE',\n  'ADI',\n  'ADSK',\n  'AKAM',\n  'AMAT',\n  'AMD',\n  'ANET',\n  'ANSS',\n  'AVGO',\n  'BR',\n  'CDNS',\n  'CTSH',\n  'CTXS',\n  'DXC',\n  'FFIV',\n  'FIS',\n  'FISV',\n  'FLIR',\n  'FLT',\n  'FTNT',\n  'FTV',\n  'GLW',\n  'HPE',\n  'HPQ',\n  'IBM',\n  'INTC',\n  'INTU',\n  'IPGP',\n  'JNPR',\n  'KLAC',\n  'LDOS',\n  'LRCX',\n  'MCHP',\n  'MSFT',\n  'MU',\n  'MXIM',\n  'NLOK',\n  'NOW',\n  'NTAP',\n  'NVDA',\n  'ORCL',\n  'QCOM',\n  'QRVO',\n  'SNPS',\n  'SWKS',\n  'TXN',\n  'VRSN',\n  'WDC',\n  'XLNX',\n  'ZBRA'],\n 'Utilities': ['AEE',\n  'AEP',\n  'AES',\n  'ATO',\n  'AWK',\n  'CMS',\n  'CNP',\n  'D',\n  'DTE',\n  'ED',\n  'EIX',\n  'ES',\n  'EXC',\n  'LNT',\n  'NRG',\n  'SO',\n  'SRE'],\n 'No Information': ['ABC',\n  'ACN',\n  'AIG',\n  'AIV',\n  'ALGN',\n  'ANTM',\n  'APH',\n  'APTV',\n  'AVB',\n  'BF.B',\n  'BK',\n  'BMY',\n  'BRK.B',\n  'C',\n  'CAH',\n  'CB',\n  'CBRE',\n  'CCL',\n  'CDW',\n  'CHRW',\n  'CMA',\n  'CMCSA',\n  'CNC',\n  'COO',\n  'CRM',\n  'CSCO',\n  'CTL',\n  'CVS',\n  'CVX',\n  'DD',\n  'DG',\n  'DGX',\n  'DHR',\n  'DLR',\n  'DRE',\n  'DUK',\n  'DVN',\n  'EQIX',\n  'ETFC',\n  'ETN',\n  'ETR',\n  'EVRG',\n  'EXPD',\n  'EXPE',\n  'F',\n  'FCX',\n  'FDX',\n  'FE',\n  'FLS',\n  'FMC',\n  'GD',\n  'GPS',\n  'GRMN',\n  'HD',\n  'HES',\n  'HFC',\n  'HII',\n  'HLT',\n  'HON',\n  'HST',\n  'HWM',\n  'IR',\n  'ISRG',\n  'IT',\n  'JKHY',\n  'JPM',\n  'KEYS',\n  'KR',\n  'KSU',\n  'LH',\n  'LHX',\n  'LKQ',\n  'LYV',\n  'MAA',\n  'MCK',\n  'MCO',\n  'MDLZ',\n  'MMC',\n  'MMM',\n  'MNST',\n  'MRK',\n  'MS',\n  'MSI',\n  'MTB',\n  'NBL',\n  'NEE',\n  'NFLX',\n  'NI',\n  'NOC',\n  'NVR',\n  'NWL',\n  'OKE',\n  'OMC',\n  'PAYC',\n  'PEAK',\n  'PEG',\n  'PG',\n  'PHM',\n  'PKI',\n  'PNR',\n  'PNW',\n  'PPG',\n  'PPL',\n  'PXD',\n  'RE',\n  'RHI',\n  'RJF',\n  'RL',\n  'RSG',\n  'RTX',\n  'SBAC',\n  'SEE',\n  'SIVB',\n  'SJM',\n  'SPG',\n  'SPGI',\n  'STE',\n  'STT',\n  'STX',\n  'STZ',\n  'SYF',\n  'TAP',\n  'TDG',\n  'TDY',\n  'TEL',\n  'TFC',\n  'TGT',\n  'TPR',\n  'TRV',\n  'TT',\n  'TXT',\n  'TYL',\n  'UAL',\n  'UDR',\n  'UNH',\n  'USB',\n  'VAR',\n  'VIAC',\n  'VLO',\n  'VNO',\n  'VTR',\n  'VZ',\n  'WEC',\n  'WELL',\n  'WFC',\n  'WLTW',\n  'WM',\n  'WMB',\n  'WRB',\n  'WST',\n  'WU',\n  'WYNN',\n  'XEL',\n  'XOM',\n  'XRAY',\n  'XRX',\n  'YUM']}"
     },
     "metadata": {},
     "execution_count": 40
    }
   ],
   "source": [
    "clean_sp500"
   ]
  },
  {
   "cell_type": "code",
   "execution_count": null,
   "metadata": {},
   "outputs": [],
   "source": []
  }
 ],
 "metadata": {
  "language_info": {
   "codemirror_mode": {
    "name": "ipython",
    "version": 3
   },
   "file_extension": ".py",
   "mimetype": "text/x-python",
   "name": "python",
   "nbconvert_exporter": "python",
   "pygments_lexer": "ipython3",
   "version": "3.8.2-final"
  },
  "orig_nbformat": 2,
  "kernelspec": {
   "name": "python_defaultSpec_1599463912744",
   "display_name": "Python 3.8.2 64-bit"
  }
 },
 "nbformat": 4,
 "nbformat_minor": 2
}