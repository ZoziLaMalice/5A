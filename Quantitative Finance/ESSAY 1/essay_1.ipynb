{
 "metadata": {
  "language_info": {
   "codemirror_mode": {
    "name": "ipython",
    "version": 3
   },
   "file_extension": ".py",
   "mimetype": "text/x-python",
   "name": "python",
   "nbconvert_exporter": "python",
   "pygments_lexer": "ipython3",
   "version": "3.8.2-final"
  },
  "orig_nbformat": 2,
  "kernelspec": {
   "name": "python38264bit04f9ba0f559d4652987b9981dbe1f5ef",
   "display_name": "Python 3.8.2 64-bit"
  }
 },
 "nbformat": 4,
 "nbformat_minor": 2,
 "cells": [
  {
   "cell_type": "markdown",
   "metadata": {},
   "source": [
    "*Import librairies*"
   ]
  },
  {
   "cell_type": "code",
   "execution_count": 1,
   "metadata": {},
   "outputs": [],
   "source": [
    "import yfinance as yf\n",
    "import pandas as pd\n",
    "import csv\n",
    "from tqdm.notebook import tqdm\n",
    "import html5lib"
   ]
  },
  {
   "cell_type": "markdown",
   "metadata": {},
   "source": [
    "## ESSAY 1"
   ]
  },
  {
   "cell_type": "markdown",
   "metadata": {},
   "source": [
    "**Select stock from S&P500**"
   ]
  },
  {
   "cell_type": "code",
   "execution_count": 2,
   "metadata": {},
   "outputs": [
    {
     "output_type": "execute_result",
     "data": {
      "text/plain": "['MMM',\n 'ABT',\n 'ABBV',\n 'ABMD',\n 'ACN',\n 'ATVI',\n 'ADBE',\n 'AMD',\n 'AAP',\n 'AES',\n 'AFL',\n 'A',\n 'APD',\n 'AKAM',\n 'ALK']"
     },
     "metadata": {},
     "execution_count": 2
    }
   ],
   "source": [
    "with open('sp500.csv', newline='') as f:\n",
    "    reader = csv.reader(f)\n",
    "    sp500 = [val for sublist in list(reader) for val in sublist]\n",
    "\n",
    "sp500.remove('GOOGL')\n",
    "sp500.append('GOOG')\n",
    "sp500[:15]"
   ]
  },
  {
   "cell_type": "markdown",
   "metadata": {},
   "source": [
    "**Sectors**"
   ]
  },
  {
   "cell_type": "code",
   "execution_count": 3,
   "metadata": {},
   "outputs": [],
   "source": [
    "sectors = [\n",
    " 'Basic Materials',\n",
    " 'Communication Services',\n",
    " 'Consumer Cyclical',\n",
    " 'Consumer Defensive',\n",
    " 'Energy',\n",
    " 'Financial Services',\n",
    " 'Healthcare',\n",
    " 'Industrials',\n",
    " 'Real Estate',\n",
    " 'Technology',\n",
    " 'Utilities'\n",
    "]"
   ]
  },
  {
   "cell_type": "markdown",
   "metadata": {},
   "source": [
    "**Selection**"
   ]
  },
  {
   "cell_type": "code",
   "execution_count": 4,
   "metadata": {},
   "outputs": [],
   "source": [
    "stocks = [\n",
    "    'AMZN',\n",
    "    'GOOG',\n",
    "    'TSLA'\n",
    "]"
   ]
  },
  {
   "cell_type": "code",
   "execution_count": 12,
   "metadata": {},
   "outputs": [],
   "source": [
    "dfs = {}\n",
    "\n",
    "for stock in stocks:\n",
    "    dfs[stock] = yf.Ticker(stock).history(period=\"2y\")"
   ]
  },
  {
   "cell_type": "code",
   "execution_count": 13,
   "metadata": {},
   "outputs": [
    {
     "output_type": "execute_result",
     "data": {
      "text/plain": "               Open     High      Low    Close   Volume  Dividends  \\\nDate                                                                 \n2018-09-04  1204.27  1212.99  1192.50  1197.00  1831000          0   \n2018-09-05  1193.80  1199.01  1162.00  1186.48  2061300          0   \n2018-09-06  1186.30  1186.30  1152.00  1171.44  1888500          0   \n2018-09-07  1158.67  1175.26  1157.21  1164.83  1401300          0   \n2018-09-10  1172.19  1174.54  1160.11  1164.64  1115400          0   \n...             ...      ...      ...      ...      ...        ...   \n2020-08-28  1633.49  1647.17  1630.75  1644.41  1499800          0   \n2020-08-31  1647.89  1647.96  1630.31  1634.18  1823400          0   \n2020-09-01  1636.63  1665.73  1632.22  1660.71  1826700          0   \n2020-09-02  1673.78  1733.18  1666.33  1728.28  2511200          0   \n2020-09-03  1709.71  1709.71  1615.06  1641.84  3100800          0   \n\n            Stock Splits  \nDate                      \n2018-09-04             0  \n2018-09-05             0  \n2018-09-06             0  \n2018-09-07             0  \n2018-09-10             0  \n...                  ...  \n2020-08-28             0  \n2020-08-31             0  \n2020-09-01             0  \n2020-09-02             0  \n2020-09-03             0  \n\n[505 rows x 7 columns]",
      "text/html": "<div>\n<style scoped>\n    .dataframe tbody tr th:only-of-type {\n        vertical-align: middle;\n    }\n\n    .dataframe tbody tr th {\n        vertical-align: top;\n    }\n\n    .dataframe thead th {\n        text-align: right;\n    }\n</style>\n<table border=\"1\" class=\"dataframe\">\n  <thead>\n    <tr style=\"text-align: right;\">\n      <th></th>\n      <th>Open</th>\n      <th>High</th>\n      <th>Low</th>\n      <th>Close</th>\n      <th>Volume</th>\n      <th>Dividends</th>\n      <th>Stock Splits</th>\n    </tr>\n    <tr>\n      <th>Date</th>\n      <th></th>\n      <th></th>\n      <th></th>\n      <th></th>\n      <th></th>\n      <th></th>\n      <th></th>\n    </tr>\n  </thead>\n  <tbody>\n    <tr>\n      <th>2018-09-04</th>\n      <td>1204.27</td>\n      <td>1212.99</td>\n      <td>1192.50</td>\n      <td>1197.00</td>\n      <td>1831000</td>\n      <td>0</td>\n      <td>0</td>\n    </tr>\n    <tr>\n      <th>2018-09-05</th>\n      <td>1193.80</td>\n      <td>1199.01</td>\n      <td>1162.00</td>\n      <td>1186.48</td>\n      <td>2061300</td>\n      <td>0</td>\n      <td>0</td>\n    </tr>\n    <tr>\n      <th>2018-09-06</th>\n      <td>1186.30</td>\n      <td>1186.30</td>\n      <td>1152.00</td>\n      <td>1171.44</td>\n      <td>1888500</td>\n      <td>0</td>\n      <td>0</td>\n    </tr>\n    <tr>\n      <th>2018-09-07</th>\n      <td>1158.67</td>\n      <td>1175.26</td>\n      <td>1157.21</td>\n      <td>1164.83</td>\n      <td>1401300</td>\n      <td>0</td>\n      <td>0</td>\n    </tr>\n    <tr>\n      <th>2018-09-10</th>\n      <td>1172.19</td>\n      <td>1174.54</td>\n      <td>1160.11</td>\n      <td>1164.64</td>\n      <td>1115400</td>\n      <td>0</td>\n      <td>0</td>\n    </tr>\n    <tr>\n      <th>...</th>\n      <td>...</td>\n      <td>...</td>\n      <td>...</td>\n      <td>...</td>\n      <td>...</td>\n      <td>...</td>\n      <td>...</td>\n    </tr>\n    <tr>\n      <th>2020-08-28</th>\n      <td>1633.49</td>\n      <td>1647.17</td>\n      <td>1630.75</td>\n      <td>1644.41</td>\n      <td>1499800</td>\n      <td>0</td>\n      <td>0</td>\n    </tr>\n    <tr>\n      <th>2020-08-31</th>\n      <td>1647.89</td>\n      <td>1647.96</td>\n      <td>1630.31</td>\n      <td>1634.18</td>\n      <td>1823400</td>\n      <td>0</td>\n      <td>0</td>\n    </tr>\n    <tr>\n      <th>2020-09-01</th>\n      <td>1636.63</td>\n      <td>1665.73</td>\n      <td>1632.22</td>\n      <td>1660.71</td>\n      <td>1826700</td>\n      <td>0</td>\n      <td>0</td>\n    </tr>\n    <tr>\n      <th>2020-09-02</th>\n      <td>1673.78</td>\n      <td>1733.18</td>\n      <td>1666.33</td>\n      <td>1728.28</td>\n      <td>2511200</td>\n      <td>0</td>\n      <td>0</td>\n    </tr>\n    <tr>\n      <th>2020-09-03</th>\n      <td>1709.71</td>\n      <td>1709.71</td>\n      <td>1615.06</td>\n      <td>1641.84</td>\n      <td>3100800</td>\n      <td>0</td>\n      <td>0</td>\n    </tr>\n  </tbody>\n</table>\n<p>505 rows × 7 columns</p>\n</div>"
     },
     "metadata": {},
     "execution_count": 13
    }
   ],
   "source": [
    "dfs['GOOG']"
   ]
  },
  {
   "cell_type": "code",
   "execution_count": 14,
   "metadata": {},
   "outputs": [],
   "source": [
    "for df in dfs:\n",
    "    dfs[df]['Returns'] = (dfs[df].Open - dfs[df].Open.shift(1)) / dfs[df].Open.shift(1)\n",
    "    dfs[df] = dfs[df].iloc[1:, [0,1,2,3,7]]"
   ]
  },
  {
   "cell_type": "code",
   "execution_count": 15,
   "metadata": {
    "tags": []
   },
   "outputs": [
    {
     "output_type": "execute_result",
     "data": {
      "text/plain": "               Open     High      Low    Close   Returns\nDate                                                    \n2018-09-05  1193.80  1199.01  1162.00  1186.48 -0.008694\n2018-09-06  1186.30  1186.30  1152.00  1171.44 -0.006282\n2018-09-07  1158.67  1175.26  1157.21  1164.83 -0.023291\n2018-09-10  1172.19  1174.54  1160.11  1164.64  0.011669\n2018-09-11  1161.63  1178.68  1156.24  1177.36 -0.009009\n...             ...      ...      ...      ...       ...\n2020-08-28  1633.49  1647.17  1630.75  1644.41 -0.012209\n2020-08-31  1647.89  1647.96  1630.31  1634.18  0.008815\n2020-09-01  1636.63  1665.73  1632.22  1660.71 -0.006833\n2020-09-02  1673.78  1733.18  1666.33  1728.28  0.022699\n2020-09-03  1709.71  1709.71  1615.06  1641.84  0.021466\n\n[504 rows x 5 columns]",
      "text/html": "<div>\n<style scoped>\n    .dataframe tbody tr th:only-of-type {\n        vertical-align: middle;\n    }\n\n    .dataframe tbody tr th {\n        vertical-align: top;\n    }\n\n    .dataframe thead th {\n        text-align: right;\n    }\n</style>\n<table border=\"1\" class=\"dataframe\">\n  <thead>\n    <tr style=\"text-align: right;\">\n      <th></th>\n      <th>Open</th>\n      <th>High</th>\n      <th>Low</th>\n      <th>Close</th>\n      <th>Returns</th>\n    </tr>\n    <tr>\n      <th>Date</th>\n      <th></th>\n      <th></th>\n      <th></th>\n      <th></th>\n      <th></th>\n    </tr>\n  </thead>\n  <tbody>\n    <tr>\n      <th>2018-09-05</th>\n      <td>1193.80</td>\n      <td>1199.01</td>\n      <td>1162.00</td>\n      <td>1186.48</td>\n      <td>-0.008694</td>\n    </tr>\n    <tr>\n      <th>2018-09-06</th>\n      <td>1186.30</td>\n      <td>1186.30</td>\n      <td>1152.00</td>\n      <td>1171.44</td>\n      <td>-0.006282</td>\n    </tr>\n    <tr>\n      <th>2018-09-07</th>\n      <td>1158.67</td>\n      <td>1175.26</td>\n      <td>1157.21</td>\n      <td>1164.83</td>\n      <td>-0.023291</td>\n    </tr>\n    <tr>\n      <th>2018-09-10</th>\n      <td>1172.19</td>\n      <td>1174.54</td>\n      <td>1160.11</td>\n      <td>1164.64</td>\n      <td>0.011669</td>\n    </tr>\n    <tr>\n      <th>2018-09-11</th>\n      <td>1161.63</td>\n      <td>1178.68</td>\n      <td>1156.24</td>\n      <td>1177.36</td>\n      <td>-0.009009</td>\n    </tr>\n    <tr>\n      <th>...</th>\n      <td>...</td>\n      <td>...</td>\n      <td>...</td>\n      <td>...</td>\n      <td>...</td>\n    </tr>\n    <tr>\n      <th>2020-08-28</th>\n      <td>1633.49</td>\n      <td>1647.17</td>\n      <td>1630.75</td>\n      <td>1644.41</td>\n      <td>-0.012209</td>\n    </tr>\n    <tr>\n      <th>2020-08-31</th>\n      <td>1647.89</td>\n      <td>1647.96</td>\n      <td>1630.31</td>\n      <td>1634.18</td>\n      <td>0.008815</td>\n    </tr>\n    <tr>\n      <th>2020-09-01</th>\n      <td>1636.63</td>\n      <td>1665.73</td>\n      <td>1632.22</td>\n      <td>1660.71</td>\n      <td>-0.006833</td>\n    </tr>\n    <tr>\n      <th>2020-09-02</th>\n      <td>1673.78</td>\n      <td>1733.18</td>\n      <td>1666.33</td>\n      <td>1728.28</td>\n      <td>0.022699</td>\n    </tr>\n    <tr>\n      <th>2020-09-03</th>\n      <td>1709.71</td>\n      <td>1709.71</td>\n      <td>1615.06</td>\n      <td>1641.84</td>\n      <td>0.021466</td>\n    </tr>\n  </tbody>\n</table>\n<p>504 rows × 5 columns</p>\n</div>"
     },
     "metadata": {},
     "execution_count": 15
    }
   ],
   "source": [
    "dfs['GOOG']"
   ]
  },
  {
   "cell_type": "code",
   "execution_count": 16,
   "metadata": {},
   "outputs": [
    {
     "output_type": "execute_result",
     "data": {
      "text/plain": "0.019027635616443363"
     },
     "metadata": {},
     "execution_count": 16
    }
   ],
   "source": [
    "dfs['GOOG'].Returns.std()"
   ]
  },
  {
   "cell_type": "code",
   "execution_count": 24,
   "metadata": {},
   "outputs": [],
   "source": [
    "stats = pd.DataFrame(\n",
    "    {\n",
    "        'Std': [dfs[df].Returns.std() for df in dfs],\n",
    "        'Mean': [dfs[df].Returns.mean() for df in dfs],\n",
    "        'Min': [dfs[df].Returns.min() for df in dfs],\n",
    "        'Max': [dfs[df].Returns.max() for df in dfs],\n",
    "        'Kurtosis': [dfs[df].Returns.kurtosis() for df in dfs],\n",
    "        'Skewness': [dfs[df].Returns.skew() for df in dfs],\n",
    "    },\n",
    "    index=[df for df in dfs]\n",
    ").T"
   ]
  },
  {
   "cell_type": "code",
   "execution_count": 25,
   "metadata": {},
   "outputs": [
    {
     "output_type": "execute_result",
     "data": {
      "text/plain": "              AMZN      GOOG      TSLA\nStd       0.023535  0.019028  0.048497\nMean      0.001353  0.000878  0.004981\nMin      -0.104723 -0.098984 -0.210924\nMax       0.104128  0.075776  0.310598\nKurtosis  3.177087  3.746129  5.381732\nSkewness -0.031385 -0.612500  0.631999",
      "text/html": "<div>\n<style scoped>\n    .dataframe tbody tr th:only-of-type {\n        vertical-align: middle;\n    }\n\n    .dataframe tbody tr th {\n        vertical-align: top;\n    }\n\n    .dataframe thead th {\n        text-align: right;\n    }\n</style>\n<table border=\"1\" class=\"dataframe\">\n  <thead>\n    <tr style=\"text-align: right;\">\n      <th></th>\n      <th>AMZN</th>\n      <th>GOOG</th>\n      <th>TSLA</th>\n    </tr>\n  </thead>\n  <tbody>\n    <tr>\n      <th>Std</th>\n      <td>0.023535</td>\n      <td>0.019028</td>\n      <td>0.048497</td>\n    </tr>\n    <tr>\n      <th>Mean</th>\n      <td>0.001353</td>\n      <td>0.000878</td>\n      <td>0.004981</td>\n    </tr>\n    <tr>\n      <th>Min</th>\n      <td>-0.104723</td>\n      <td>-0.098984</td>\n      <td>-0.210924</td>\n    </tr>\n    <tr>\n      <th>Max</th>\n      <td>0.104128</td>\n      <td>0.075776</td>\n      <td>0.310598</td>\n    </tr>\n    <tr>\n      <th>Kurtosis</th>\n      <td>3.177087</td>\n      <td>3.746129</td>\n      <td>5.381732</td>\n    </tr>\n    <tr>\n      <th>Skewness</th>\n      <td>-0.031385</td>\n      <td>-0.612500</td>\n      <td>0.631999</td>\n    </tr>\n  </tbody>\n</table>\n</div>"
     },
     "metadata": {},
     "execution_count": 25
    }
   ],
   "source": [
    "stats"
   ]
  },
  {
   "cell_type": "code",
   "execution_count": null,
   "metadata": {},
   "outputs": [],
   "source": []
  }
 ]
}