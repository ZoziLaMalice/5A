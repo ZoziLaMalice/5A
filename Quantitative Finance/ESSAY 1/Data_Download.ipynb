{
 "metadata": {
  "language_info": {
   "codemirror_mode": {
    "name": "ipython",
    "version": 3
   },
   "file_extension": ".py",
   "mimetype": "text/x-python",
   "name": "python",
   "nbconvert_exporter": "python",
   "pygments_lexer": "ipython3",
   "version": "3.8.5-final"
  },
  "orig_nbformat": 2,
  "kernelspec": {
   "name": "python38264bit04f9ba0f559d4652987b9981dbe1f5ef",
   "display_name": "Python 3.8.2 64-bit"
  }
 },
 "nbformat": 4,
 "nbformat_minor": 2,
 "cells": [
  {
   "cell_type": "code",
   "execution_count": 11,
   "metadata": {},
   "outputs": [],
   "source": [
    "import yfinance as yf\n",
    "import pandas as pd\n",
    "import json\n",
    "\n",
    "from zozipop import StocksData, zoziDash"
   ]
  },
  {
   "cell_type": "code",
   "execution_count": 12,
   "metadata": {},
   "outputs": [],
   "source": [
    "stocks = {\n",
    " 'Materials': {'Name': 'Newmont Corporation', 'Ticker': 'NEM'},\n",
    " 'Communication Services': {'Name': 'Alphabet Inc.', 'Ticker': 'GOOGL'},\n",
    " 'Consumer Discretionary': {'Name': 'Amazon.com Inc.', 'Ticker': 'AMZN'},\n",
    " 'Consumer Staples': {'Name': 'PepsiCo Inc.', 'Ticker': 'PEP'},\n",
    " 'Energy': {'Name': 'National Oilwell Varco Inc.', 'Ticker': 'NOV'},\n",
    " 'Financial Services': {'Name': 'Bank of America Corp', 'Ticker': 'BAC'},\n",
    " 'Healthcare': {'Name': 'HCA Healthcare', 'Ticker': 'HCA'},\n",
    " 'Industrials': {'Name': 'Boeing Company', 'Ticker': 'BA'},\n",
    " 'Real Estate': {'Name': 'Host Hotels & Resorts', 'Ticker': 'HST'},\n",
    " 'Information Technology': {'Name': 'Apple Inc.', 'Ticker': 'AAPL'},\n",
    " 'Utilities': {'Name': 'American Electric Power', 'Ticker': 'AEP'}\n",
    "}"
   ]
  },
  {
   "cell_type": "code",
   "execution_count": 13,
   "metadata": {},
   "outputs": [
    {
     "output_type": "stream",
     "name": "stdout",
     "text": [
      "[*********************100%***********************]  11 of 11 completed\n"
     ]
    }
   ],
   "source": [
    "complete_data = yf.download(\n",
    "        tickers = [stocks[stock]['Ticker'] for stock in stocks],\n",
    "        group_by = 'ticker',\n",
    "        start=\"2018-06-30\"\n",
    "    )"
   ]
  },
  {
   "cell_type": "code",
   "execution_count": 14,
   "metadata": {},
   "outputs": [
    {
     "output_type": "stream",
     "name": "stdout",
     "text": [
      "[*********************100%***********************]  1 of 1 completed\n"
     ]
    }
   ],
   "source": [
    "market = yf.download(\n",
    "    tickers = \"^GSPC\",\n",
    "    start=\"2018-06-30\"\n",
    ")"
   ]
  },
  {
   "cell_type": "code",
   "execution_count": 15,
   "metadata": {},
   "outputs": [],
   "source": [
    "complete_data.to_csv('data/complete_data.csv')"
   ]
  },
  {
   "cell_type": "code",
   "execution_count": 16,
   "metadata": {},
   "outputs": [],
   "source": [
    "market.to_csv('data/market.csv')"
   ]
  },
  {
   "cell_type": "code",
   "execution_count": 17,
   "metadata": {},
   "outputs": [],
   "source": [
    "with open('data/stocks.json', 'w') as fp:\n",
    "    json.dump(stocks, fp)"
   ]
  },
  {
   "cell_type": "code",
   "execution_count": 18,
   "metadata": {},
   "outputs": [],
   "source": [
    "with open('data/stocks.json', 'r') as fp:\n",
    "    stocks = json.load(fp)"
   ]
  },
  {
   "cell_type": "code",
   "execution_count": null,
   "metadata": {},
   "outputs": [],
   "source": []
  }
 ]
}