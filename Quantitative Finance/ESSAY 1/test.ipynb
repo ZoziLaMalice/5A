{
 "metadata": {
  "language_info": {
   "codemirror_mode": {
    "name": "ipython",
    "version": 3
   },
   "file_extension": ".py",
   "mimetype": "text/x-python",
   "name": "python",
   "nbconvert_exporter": "python",
   "pygments_lexer": "ipython3",
   "version": "3.8.5-final"
  },
  "orig_nbformat": 2,
  "kernelspec": {
   "name": "Python 3.8.5 64-bit",
   "display_name": "Python 3.8.5 64-bit",
   "metadata": {
    "interpreter": {
     "hash": "31f2aee4e71d21fbe5cf8b01ff0e069b9275f58929596ceb00d14d90e3e16cd6"
    }
   }
  }
 },
 "nbformat": 4,
 "nbformat_minor": 2,
 "cells": [
  {
   "cell_type": "code",
   "execution_count": 1,
   "metadata": {},
   "outputs": [],
   "source": [
    "import yfinance as yf\n",
    "import pandas as pd\n",
    "import numpy as np"
   ]
  },
  {
   "cell_type": "code",
   "execution_count": 2,
   "metadata": {},
   "outputs": [],
   "source": [
    "stocks = {\n",
    " 'Materials': {'Name': 'Newmont Corporation', 'Ticker': 'NEM'},\n",
    " 'Communication Services': {'Name': 'Alphabet Inc.', 'Ticker': 'GOOGL'},\n",
    " 'Consumer Discretionary': {'Name': 'Amazon.com Inc.', 'Ticker': 'AMZN'},\n",
    " 'Consumer Staples': {'Name': 'PepsiCo Inc.', 'Ticker': 'PEP'},\n",
    " 'Energy': {'Name': 'National Oilwell Varco Inc.', 'Ticker': 'NOV'},\n",
    " 'Financial Services': {'Name': 'Bank of America Corp', 'Ticker': 'BAC'},\n",
    " 'Healthcare': {'Name': 'HCA Healthcare', 'Ticker': 'HCA'},\n",
    " 'Industrials': {'Name': 'Boeing Company', 'Ticker': 'BA'},\n",
    " 'Real Estate': {'Name': 'Host Hotels & Resorts', 'Ticker': 'HST'},\n",
    " 'Information Technology': {'Name': 'Apple Inc.', 'Ticker': 'AAPL'},\n",
    " 'Utilities': {'Name': 'American Electric Power', 'Ticker': 'AEP'}\n",
    "}"
   ]
  },
  {
   "cell_type": "code",
   "execution_count": 3,
   "metadata": {},
   "outputs": [
    {
     "output_type": "stream",
     "name": "stdout",
     "text": [
      "[*********************100%***********************]  11 of 11 completed\n"
     ]
    }
   ],
   "source": [
    "complete_data = yf.download(\n",
    "        tickers = [stocks[stock]['Ticker'] for stock in stocks],\n",
    "        group_by = 'ticker',\n",
    "        start=\"2018-06-30\"\n",
    "    )"
   ]
  },
  {
   "cell_type": "code",
   "execution_count": 4,
   "metadata": {},
   "outputs": [
    {
     "output_type": "stream",
     "name": "stdout",
     "text": [
      "[*********************100%***********************]  1 of 1 completed\n"
     ]
    }
   ],
   "source": [
    "market = yf.download(\n",
    "    tickers = \"^GSPC\",\n",
    "    start=\"2018-06-30\"\n",
    ")"
   ]
  },
  {
   "cell_type": "code",
   "execution_count": 5,
   "metadata": {},
   "outputs": [],
   "source": [
    "from zozif.notebook_functions_draft import StocksData"
   ]
  },
  {
   "cell_type": "code",
   "execution_count": 6,
   "metadata": {},
   "outputs": [],
   "source": [
    "e = StocksData(complete_data, market)"
   ]
  },
  {
   "cell_type": "code",
   "execution_count": 7,
   "metadata": {},
   "outputs": [],
   "source": [
    "s = e.get_statistics()"
   ]
  },
  {
   "cell_type": "code",
   "execution_count": 8,
   "metadata": {},
   "outputs": [
    {
     "output_type": "execute_result",
     "data": {
      "text/plain": [
       "                  GOOGL         AMZN        NEM        NOV        AEP  \\\n",
       "Date                                                                    \n",
       "2018-07-02  1142.109985  1713.780029  35.223190  42.069508  65.090996   \n",
       "2018-07-03  1116.280029  1693.959961  35.307617  42.463139  65.509148   \n",
       "2018-07-05  1141.290039  1699.729980  36.048672  42.886299  66.094543   \n",
       "2018-07-06  1155.079956  1710.630005  35.485847  43.555473  66.494118   \n",
       "2018-07-09  1167.280029  1739.020020  35.448326  44.283688  63.994541   \n",
       "...                 ...          ...        ...        ...        ...   \n",
       "2020-10-16  1567.699951  3272.709961  62.669998   8.600000  91.519997   \n",
       "2020-10-19  1529.949951  3207.209961  61.709999   8.700000  91.279999   \n",
       "2020-10-20  1551.079956  3217.010010  61.189999   9.140000  90.680000   \n",
       "2020-10-21  1585.989990  3184.939941  61.480000   9.010000  90.400002   \n",
       "2020-10-22  1606.660034  3176.399902  60.540001   9.310000  92.199997   \n",
       "\n",
       "                   HCA        BAC         PEP          BA        HST  \\\n",
       "Date                                                                   \n",
       "2018-07-02  101.065643  26.816353  102.430809  323.468475  19.285103   \n",
       "2018-07-03  101.731659  26.342230  101.748146  320.436676  19.451670   \n",
       "2018-07-05  101.349678  26.474983  102.449524  320.677307  19.534954   \n",
       "2018-07-06  103.053856  26.579294  102.458878  322.082581  19.729286   \n",
       "2018-07-09  103.543564  27.546499  100.775543  329.089355  19.747793   \n",
       "...                ...        ...         ...         ...        ...   \n",
       "2020-10-16  135.119995  24.240000  141.729996  167.350006  10.950000   \n",
       "2020-10-19  134.330002  23.719999  139.679993  167.110001  10.670000   \n",
       "2020-10-20  136.419998  24.139999  139.710007  167.240005  10.780000   \n",
       "2020-10-21  135.979996  24.049999  139.600006  163.860001  11.040000   \n",
       "2020-10-22  135.210007  24.870001  139.610001  169.070007  11.480000   \n",
       "\n",
       "                  AAPL  \n",
       "Date                    \n",
       "2018-07-02   45.467773  \n",
       "2018-07-03   44.675892  \n",
       "2018-07-05   45.035393  \n",
       "2018-07-06   45.659668  \n",
       "2018-07-09   46.293667  \n",
       "...                ...  \n",
       "2020-10-16  119.019997  \n",
       "2020-10-19  115.980003  \n",
       "2020-10-20  117.510002  \n",
       "2020-10-21  116.870003  \n",
       "2020-10-22  115.750000  \n",
       "\n",
       "[583 rows x 11 columns]"
      ],
      "text/html": "<div>\n<style scoped>\n    .dataframe tbody tr th:only-of-type {\n        vertical-align: middle;\n    }\n\n    .dataframe tbody tr th {\n        vertical-align: top;\n    }\n\n    .dataframe thead th {\n        text-align: right;\n    }\n</style>\n<table border=\"1\" class=\"dataframe\">\n  <thead>\n    <tr style=\"text-align: right;\">\n      <th></th>\n      <th>GOOGL</th>\n      <th>AMZN</th>\n      <th>NEM</th>\n      <th>NOV</th>\n      <th>AEP</th>\n      <th>HCA</th>\n      <th>BAC</th>\n      <th>PEP</th>\n      <th>BA</th>\n      <th>HST</th>\n      <th>AAPL</th>\n    </tr>\n    <tr>\n      <th>Date</th>\n      <th></th>\n      <th></th>\n      <th></th>\n      <th></th>\n      <th></th>\n      <th></th>\n      <th></th>\n      <th></th>\n      <th></th>\n      <th></th>\n      <th></th>\n    </tr>\n  </thead>\n  <tbody>\n    <tr>\n      <th>2018-07-02</th>\n      <td>1142.109985</td>\n      <td>1713.780029</td>\n      <td>35.223190</td>\n      <td>42.069508</td>\n      <td>65.090996</td>\n      <td>101.065643</td>\n      <td>26.816353</td>\n      <td>102.430809</td>\n      <td>323.468475</td>\n      <td>19.285103</td>\n      <td>45.467773</td>\n    </tr>\n    <tr>\n      <th>2018-07-03</th>\n      <td>1116.280029</td>\n      <td>1693.959961</td>\n      <td>35.307617</td>\n      <td>42.463139</td>\n      <td>65.509148</td>\n      <td>101.731659</td>\n      <td>26.342230</td>\n      <td>101.748146</td>\n      <td>320.436676</td>\n      <td>19.451670</td>\n      <td>44.675892</td>\n    </tr>\n    <tr>\n      <th>2018-07-05</th>\n      <td>1141.290039</td>\n      <td>1699.729980</td>\n      <td>36.048672</td>\n      <td>42.886299</td>\n      <td>66.094543</td>\n      <td>101.349678</td>\n      <td>26.474983</td>\n      <td>102.449524</td>\n      <td>320.677307</td>\n      <td>19.534954</td>\n      <td>45.035393</td>\n    </tr>\n    <tr>\n      <th>2018-07-06</th>\n      <td>1155.079956</td>\n      <td>1710.630005</td>\n      <td>35.485847</td>\n      <td>43.555473</td>\n      <td>66.494118</td>\n      <td>103.053856</td>\n      <td>26.579294</td>\n      <td>102.458878</td>\n      <td>322.082581</td>\n      <td>19.729286</td>\n      <td>45.659668</td>\n    </tr>\n    <tr>\n      <th>2018-07-09</th>\n      <td>1167.280029</td>\n      <td>1739.020020</td>\n      <td>35.448326</td>\n      <td>44.283688</td>\n      <td>63.994541</td>\n      <td>103.543564</td>\n      <td>27.546499</td>\n      <td>100.775543</td>\n      <td>329.089355</td>\n      <td>19.747793</td>\n      <td>46.293667</td>\n    </tr>\n    <tr>\n      <th>...</th>\n      <td>...</td>\n      <td>...</td>\n      <td>...</td>\n      <td>...</td>\n      <td>...</td>\n      <td>...</td>\n      <td>...</td>\n      <td>...</td>\n      <td>...</td>\n      <td>...</td>\n      <td>...</td>\n    </tr>\n    <tr>\n      <th>2020-10-16</th>\n      <td>1567.699951</td>\n      <td>3272.709961</td>\n      <td>62.669998</td>\n      <td>8.600000</td>\n      <td>91.519997</td>\n      <td>135.119995</td>\n      <td>24.240000</td>\n      <td>141.729996</td>\n      <td>167.350006</td>\n      <td>10.950000</td>\n      <td>119.019997</td>\n    </tr>\n    <tr>\n      <th>2020-10-19</th>\n      <td>1529.949951</td>\n      <td>3207.209961</td>\n      <td>61.709999</td>\n      <td>8.700000</td>\n      <td>91.279999</td>\n      <td>134.330002</td>\n      <td>23.719999</td>\n      <td>139.679993</td>\n      <td>167.110001</td>\n      <td>10.670000</td>\n      <td>115.980003</td>\n    </tr>\n    <tr>\n      <th>2020-10-20</th>\n      <td>1551.079956</td>\n      <td>3217.010010</td>\n      <td>61.189999</td>\n      <td>9.140000</td>\n      <td>90.680000</td>\n      <td>136.419998</td>\n      <td>24.139999</td>\n      <td>139.710007</td>\n      <td>167.240005</td>\n      <td>10.780000</td>\n      <td>117.510002</td>\n    </tr>\n    <tr>\n      <th>2020-10-21</th>\n      <td>1585.989990</td>\n      <td>3184.939941</td>\n      <td>61.480000</td>\n      <td>9.010000</td>\n      <td>90.400002</td>\n      <td>135.979996</td>\n      <td>24.049999</td>\n      <td>139.600006</td>\n      <td>163.860001</td>\n      <td>11.040000</td>\n      <td>116.870003</td>\n    </tr>\n    <tr>\n      <th>2020-10-22</th>\n      <td>1606.660034</td>\n      <td>3176.399902</td>\n      <td>60.540001</td>\n      <td>9.310000</td>\n      <td>92.199997</td>\n      <td>135.210007</td>\n      <td>24.870001</td>\n      <td>139.610001</td>\n      <td>169.070007</td>\n      <td>11.480000</td>\n      <td>115.750000</td>\n    </tr>\n  </tbody>\n</table>\n<p>583 rows × 11 columns</p>\n</div>"
     },
     "metadata": {},
     "execution_count": 8
    }
   ],
   "source": [
    "e.get_something('prices')"
   ]
  },
  {
   "cell_type": "code",
   "execution_count": 9,
   "metadata": {},
   "outputs": [
    {
     "output_type": "execute_result",
     "data": {
      "text/plain": [
       "           Std  Annual Std    Mean  Geometric Mean  Median      Min      Max  \\\n",
       "GOOGL   1.9921     31.6239  0.0804         16.4667  0.0923 -11.6342   9.6202   \n",
       "AMZN    2.1568     34.2381  0.1305         31.0301  0.0923  -7.9221   9.4452   \n",
       "NEM     2.2462     35.6572  0.1173         26.1456  0.0923 -11.1161  14.0182   \n",
       "NOV     3.8352     60.8816 -0.1861        -48.2348  0.0923 -28.9541  21.4876   \n",
       "AEP     1.7343     27.5304  0.0767         16.8197  0.0923 -11.5827  11.6826   \n",
       "HCA     2.8084     44.5819  0.0902         13.6880  0.0923 -19.0161  22.5598   \n",
       "BAC     2.5945     41.1860  0.0212         -3.0710  0.0923 -15.3974  17.7962   \n",
       "PEP     1.6988     26.9683  0.0686         14.6214  0.0923 -11.4283  12.9366   \n",
       "BA      3.7881     60.1341 -0.0390        -24.3992  0.0923 -23.8484  24.3186   \n",
       "HST     2.6701     42.3869 -0.0553        -20.4642  0.0923 -15.6880  17.0974   \n",
       "AAPL    2.3442     37.2123  0.1898         50.4877  0.0923 -12.8647  11.9808   \n",
       "Market  1.5774     25.0406  0.0536         10.9001  0.0923 -11.9841   9.3828   \n",
       "\n",
       "         Kurtosis  Skewness     Alpha      Beta  VaR 95% HS  VaR 95% DN  \\\n",
       "GOOGL    5.618884 -0.137120  0.000021  0.639956     -3.0066     -3.1964   \n",
       "AMZN     2.417528  0.110702 -0.000083  0.473902     -3.3164     -3.4171   \n",
       "NEM      8.119567  0.406072  0.000362  0.147854     -3.3302     -3.5774   \n",
       "NOV      9.388403 -0.316572  0.001016  0.258133     -5.6713     -6.4944   \n",
       "AEP     13.391304 -0.011636  0.000150  0.502202     -2.2601     -2.7758   \n",
       "HCA     13.608126  0.436016  0.000215  0.355624     -3.6530     -4.5292   \n",
       "BAC     10.806479  0.233398  0.000430  0.497526     -3.9786     -4.2463   \n",
       "PEP     18.898128 -0.045583  0.000061  0.691568     -2.1216     -2.7257   \n",
       "BA      12.161825  0.264113  0.000643  0.274911     -4.8488     -6.2699   \n",
       "HST      8.486605  0.393959  0.000745  0.378722     -3.8947     -4.4473   \n",
       "AAPL     5.575121 -0.163257 -0.000497  0.544115     -3.2625     -3.6660   \n",
       "Market  14.282772 -0.605289  0.000000  1.000000     -2.4090     -2.5410   \n",
       "\n",
       "        Systemic Risk  \n",
       "GOOGL          0.0102  \n",
       "AMZN           0.0056  \n",
       "NEM            0.0005  \n",
       "NOV            0.0017  \n",
       "AEP            0.0063  \n",
       "HCA            0.0031  \n",
       "BAC            0.0062  \n",
       "PEP            0.0119  \n",
       "BA             0.0019  \n",
       "HST            0.0036  \n",
       "AAPL           0.0074  \n",
       "Market         0.0249  "
      ],
      "text/html": "<div>\n<style scoped>\n    .dataframe tbody tr th:only-of-type {\n        vertical-align: middle;\n    }\n\n    .dataframe tbody tr th {\n        vertical-align: top;\n    }\n\n    .dataframe thead th {\n        text-align: right;\n    }\n</style>\n<table border=\"1\" class=\"dataframe\">\n  <thead>\n    <tr style=\"text-align: right;\">\n      <th></th>\n      <th>Std</th>\n      <th>Annual Std</th>\n      <th>Mean</th>\n      <th>Geometric Mean</th>\n      <th>Median</th>\n      <th>Min</th>\n      <th>Max</th>\n      <th>Kurtosis</th>\n      <th>Skewness</th>\n      <th>Alpha</th>\n      <th>Beta</th>\n      <th>VaR 95% HS</th>\n      <th>VaR 95% DN</th>\n      <th>Systemic Risk</th>\n    </tr>\n  </thead>\n  <tbody>\n    <tr>\n      <th>GOOGL</th>\n      <td>1.9921</td>\n      <td>31.6239</td>\n      <td>0.0804</td>\n      <td>16.4667</td>\n      <td>0.0923</td>\n      <td>-11.6342</td>\n      <td>9.6202</td>\n      <td>5.618884</td>\n      <td>-0.137120</td>\n      <td>0.000021</td>\n      <td>0.639956</td>\n      <td>-3.0066</td>\n      <td>-3.1964</td>\n      <td>0.0102</td>\n    </tr>\n    <tr>\n      <th>AMZN</th>\n      <td>2.1568</td>\n      <td>34.2381</td>\n      <td>0.1305</td>\n      <td>31.0301</td>\n      <td>0.0923</td>\n      <td>-7.9221</td>\n      <td>9.4452</td>\n      <td>2.417528</td>\n      <td>0.110702</td>\n      <td>-0.000083</td>\n      <td>0.473902</td>\n      <td>-3.3164</td>\n      <td>-3.4171</td>\n      <td>0.0056</td>\n    </tr>\n    <tr>\n      <th>NEM</th>\n      <td>2.2462</td>\n      <td>35.6572</td>\n      <td>0.1173</td>\n      <td>26.1456</td>\n      <td>0.0923</td>\n      <td>-11.1161</td>\n      <td>14.0182</td>\n      <td>8.119567</td>\n      <td>0.406072</td>\n      <td>0.000362</td>\n      <td>0.147854</td>\n      <td>-3.3302</td>\n      <td>-3.5774</td>\n      <td>0.0005</td>\n    </tr>\n    <tr>\n      <th>NOV</th>\n      <td>3.8352</td>\n      <td>60.8816</td>\n      <td>-0.1861</td>\n      <td>-48.2348</td>\n      <td>0.0923</td>\n      <td>-28.9541</td>\n      <td>21.4876</td>\n      <td>9.388403</td>\n      <td>-0.316572</td>\n      <td>0.001016</td>\n      <td>0.258133</td>\n      <td>-5.6713</td>\n      <td>-6.4944</td>\n      <td>0.0017</td>\n    </tr>\n    <tr>\n      <th>AEP</th>\n      <td>1.7343</td>\n      <td>27.5304</td>\n      <td>0.0767</td>\n      <td>16.8197</td>\n      <td>0.0923</td>\n      <td>-11.5827</td>\n      <td>11.6826</td>\n      <td>13.391304</td>\n      <td>-0.011636</td>\n      <td>0.000150</td>\n      <td>0.502202</td>\n      <td>-2.2601</td>\n      <td>-2.7758</td>\n      <td>0.0063</td>\n    </tr>\n    <tr>\n      <th>HCA</th>\n      <td>2.8084</td>\n      <td>44.5819</td>\n      <td>0.0902</td>\n      <td>13.6880</td>\n      <td>0.0923</td>\n      <td>-19.0161</td>\n      <td>22.5598</td>\n      <td>13.608126</td>\n      <td>0.436016</td>\n      <td>0.000215</td>\n      <td>0.355624</td>\n      <td>-3.6530</td>\n      <td>-4.5292</td>\n      <td>0.0031</td>\n    </tr>\n    <tr>\n      <th>BAC</th>\n      <td>2.5945</td>\n      <td>41.1860</td>\n      <td>0.0212</td>\n      <td>-3.0710</td>\n      <td>0.0923</td>\n      <td>-15.3974</td>\n      <td>17.7962</td>\n      <td>10.806479</td>\n      <td>0.233398</td>\n      <td>0.000430</td>\n      <td>0.497526</td>\n      <td>-3.9786</td>\n      <td>-4.2463</td>\n      <td>0.0062</td>\n    </tr>\n    <tr>\n      <th>PEP</th>\n      <td>1.6988</td>\n      <td>26.9683</td>\n      <td>0.0686</td>\n      <td>14.6214</td>\n      <td>0.0923</td>\n      <td>-11.4283</td>\n      <td>12.9366</td>\n      <td>18.898128</td>\n      <td>-0.045583</td>\n      <td>0.000061</td>\n      <td>0.691568</td>\n      <td>-2.1216</td>\n      <td>-2.7257</td>\n      <td>0.0119</td>\n    </tr>\n    <tr>\n      <th>BA</th>\n      <td>3.7881</td>\n      <td>60.1341</td>\n      <td>-0.0390</td>\n      <td>-24.3992</td>\n      <td>0.0923</td>\n      <td>-23.8484</td>\n      <td>24.3186</td>\n      <td>12.161825</td>\n      <td>0.264113</td>\n      <td>0.000643</td>\n      <td>0.274911</td>\n      <td>-4.8488</td>\n      <td>-6.2699</td>\n      <td>0.0019</td>\n    </tr>\n    <tr>\n      <th>HST</th>\n      <td>2.6701</td>\n      <td>42.3869</td>\n      <td>-0.0553</td>\n      <td>-20.4642</td>\n      <td>0.0923</td>\n      <td>-15.6880</td>\n      <td>17.0974</td>\n      <td>8.486605</td>\n      <td>0.393959</td>\n      <td>0.000745</td>\n      <td>0.378722</td>\n      <td>-3.8947</td>\n      <td>-4.4473</td>\n      <td>0.0036</td>\n    </tr>\n    <tr>\n      <th>AAPL</th>\n      <td>2.3442</td>\n      <td>37.2123</td>\n      <td>0.1898</td>\n      <td>50.4877</td>\n      <td>0.0923</td>\n      <td>-12.8647</td>\n      <td>11.9808</td>\n      <td>5.575121</td>\n      <td>-0.163257</td>\n      <td>-0.000497</td>\n      <td>0.544115</td>\n      <td>-3.2625</td>\n      <td>-3.6660</td>\n      <td>0.0074</td>\n    </tr>\n    <tr>\n      <th>Market</th>\n      <td>1.5774</td>\n      <td>25.0406</td>\n      <td>0.0536</td>\n      <td>10.9001</td>\n      <td>0.0923</td>\n      <td>-11.9841</td>\n      <td>9.3828</td>\n      <td>14.282772</td>\n      <td>-0.605289</td>\n      <td>0.000000</td>\n      <td>1.000000</td>\n      <td>-2.4090</td>\n      <td>-2.5410</td>\n      <td>0.0249</td>\n    </tr>\n  </tbody>\n</table>\n</div>"
     },
     "metadata": {},
     "execution_count": 9
    }
   ],
   "source": [
    "s"
   ]
  },
  {
   "cell_type": "code",
   "execution_count": 10,
   "metadata": {},
   "outputs": [
    {
     "output_type": "execute_result",
     "data": {
      "text/plain": [
       "                 Std  Annual Std    Mean  Geometric Mean  Median      Min  \\\n",
       "Eq W Returns  1.7512     27.7988  0.0449          7.7096    0.09 -11.8637   \n",
       "\n",
       "               Max   Kurtosis  Skewness     Alpha      Beta  VaR 95% HS  \\\n",
       "Eq W Returns  10.0  12.493218 -0.704723  0.000027  0.852802     -2.3131   \n",
       "\n",
       "              VaR 95% DN  Systemic Risk  \n",
       "Eq W Returns     -2.8355         0.0183  "
      ],
      "text/html": "<div>\n<style scoped>\n    .dataframe tbody tr th:only-of-type {\n        vertical-align: middle;\n    }\n\n    .dataframe tbody tr th {\n        vertical-align: top;\n    }\n\n    .dataframe thead th {\n        text-align: right;\n    }\n</style>\n<table border=\"1\" class=\"dataframe\">\n  <thead>\n    <tr style=\"text-align: right;\">\n      <th></th>\n      <th>Std</th>\n      <th>Annual Std</th>\n      <th>Mean</th>\n      <th>Geometric Mean</th>\n      <th>Median</th>\n      <th>Min</th>\n      <th>Max</th>\n      <th>Kurtosis</th>\n      <th>Skewness</th>\n      <th>Alpha</th>\n      <th>Beta</th>\n      <th>VaR 95% HS</th>\n      <th>VaR 95% DN</th>\n      <th>Systemic Risk</th>\n    </tr>\n  </thead>\n  <tbody>\n    <tr>\n      <th>Eq W Returns</th>\n      <td>1.7512</td>\n      <td>27.7988</td>\n      <td>0.0449</td>\n      <td>7.7096</td>\n      <td>0.09</td>\n      <td>-11.8637</td>\n      <td>10.0</td>\n      <td>12.493218</td>\n      <td>-0.704723</td>\n      <td>0.000027</td>\n      <td>0.852802</td>\n      <td>-2.3131</td>\n      <td>-2.8355</td>\n      <td>0.0183</td>\n    </tr>\n  </tbody>\n</table>\n</div>"
     },
     "metadata": {},
     "execution_count": 10
    }
   ],
   "source": [
    "e.get_statistics_eq_w_portfolio()"
   ]
  },
  {
   "cell_type": "code",
   "execution_count": 11,
   "metadata": {},
   "outputs": [],
   "source": [
    "carl = e.monte_carlo(['AMZN', 'AAPL', 'AEP'], 1000)"
   ]
  },
  {
   "cell_type": "code",
   "execution_count": 12,
   "metadata": {},
   "outputs": [
    {
     "output_type": "execute_result",
     "data": {
      "text/plain": [
       "Index(['AMZN', 'AAPL', 'AEP', 'Returns', 'Volatility', 'Sharpe Ratio'], dtype='object')"
      ]
     },
     "metadata": {},
     "execution_count": 12
    }
   ],
   "source": [
    "carl.keys()"
   ]
  },
  {
   "cell_type": "code",
   "execution_count": 13,
   "metadata": {},
   "outputs": [
    {
     "output_type": "execute_result",
     "data": {
      "text/plain": [
       "                            AMZN   AAPL    AEP  Returns  Volatility  \\\n",
       "Max Sharpe Allocation      14.43  63.14  22.43    39.29       29.75   \n",
       "Min Volatility Allocation  33.89   3.86  62.24    25.03       23.40   \n",
       "\n",
       "                           Sharpe Ratio  \n",
       "Max Sharpe Allocation              1.32  \n",
       "Min Volatility Allocation          1.07  "
      ],
      "text/html": "<div>\n<style scoped>\n    .dataframe tbody tr th:only-of-type {\n        vertical-align: middle;\n    }\n\n    .dataframe tbody tr th {\n        vertical-align: top;\n    }\n\n    .dataframe thead th {\n        text-align: right;\n    }\n</style>\n<table border=\"1\" class=\"dataframe\">\n  <thead>\n    <tr style=\"text-align: right;\">\n      <th></th>\n      <th>AMZN</th>\n      <th>AAPL</th>\n      <th>AEP</th>\n      <th>Returns</th>\n      <th>Volatility</th>\n      <th>Sharpe Ratio</th>\n    </tr>\n  </thead>\n  <tbody>\n    <tr>\n      <th>Max Sharpe Allocation</th>\n      <td>14.43</td>\n      <td>63.14</td>\n      <td>22.43</td>\n      <td>39.29</td>\n      <td>29.75</td>\n      <td>1.32</td>\n    </tr>\n    <tr>\n      <th>Min Volatility Allocation</th>\n      <td>33.89</td>\n      <td>3.86</td>\n      <td>62.24</td>\n      <td>25.03</td>\n      <td>23.40</td>\n      <td>1.07</td>\n    </tr>\n  </tbody>\n</table>\n</div>"
     },
     "metadata": {},
     "execution_count": 13
    }
   ],
   "source": [
    "carl"
   ]
  },
  {
   "cell_type": "code",
   "execution_count": 14,
   "metadata": {},
   "outputs": [],
   "source": [
    "opt = e.maximize_sharpe_ratio(['AMZN', 'AAPL', 'AEP'])"
   ]
  },
  {
   "cell_type": "code",
   "execution_count": 15,
   "metadata": {},
   "outputs": [
    {
     "output_type": "execute_result",
     "data": {
      "text/plain": [
       "array([0.12491815, 0.63332802, 0.24175383])"
      ]
     },
     "metadata": {},
     "execution_count": 15
    }
   ],
   "source": [
    "opt[1]"
   ]
  },
  {
   "cell_type": "code",
   "execution_count": 16,
   "metadata": {},
   "outputs": [
    {
     "output_type": "stream",
     "name": "stdout",
     "text": [
      "                             OLS Regression Results                             \n================================================================================\nDep. Variable:     Max Sharpe Portfolio   R-squared:                       0.743\nModel:                              OLS   Adj. R-squared:                  0.743\nMethod:                   Least Squares   F-statistic:                     1681.\nDate:                  Fri, 23 Oct 2020   Prob (F-statistic):          1.31e-173\nTime:                          12:45:19   Log-Likelihood:                 1891.3\nNo. Observations:                   583   AIC:                            -3779.\nDf Residuals:                       581   BIC:                            -3770.\nDf Model:                             1                                         \nCovariance Type:              nonrobust                                         \n==================================================================================\n                     coef    std err          t      P>|t|      [0.025      0.975]\n----------------------------------------------------------------------------------\nconst              0.0010      0.000      2.565      0.011       0.000       0.002\nMarket Returns     1.0185      0.025     40.995      0.000       0.970       1.067\n==============================================================================\nOmnibus:                      114.673   Durbin-Watson:                   1.890\nProb(Omnibus):                  0.000   Jarque-Bera (JB):              848.568\nSkew:                           0.641   Prob(JB):                    5.44e-185\nKurtosis:                       8.769   Cond. No.                         63.4\n==============================================================================\n\nNotes:\n[1] Standard Errors assume that the covariance matrix of the errors is correctly specified.\n"
     ]
    }
   ],
   "source": [
    "e.portfolio_vs_market_CAPM(['AMZN', 'AAPL', 'AEP'], opt[1])"
   ]
  },
  {
   "cell_type": "code",
   "execution_count": null,
   "metadata": {},
   "outputs": [],
   "source": []
  }
 ]
}